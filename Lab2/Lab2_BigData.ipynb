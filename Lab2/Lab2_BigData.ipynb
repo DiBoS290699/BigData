{
 "cells": [
  {
   "cell_type": "markdown",
   "id": "7aaeb47b",
   "metadata": {},
   "source": [
    "# Borisov Dmitriy 6133 Lab2"
   ]
  },
  {
   "cell_type": "markdown",
   "id": "a06724fc",
   "metadata": {},
   "source": [
    "## Инициализация спарка"
   ]
  },
  {
   "cell_type": "code",
   "execution_count": 1,
   "id": "e7f7ba94",
   "metadata": {},
   "outputs": [],
   "source": [
    "import findspark\n",
    "findspark.init()"
   ]
  },
  {
   "cell_type": "code",
   "execution_count": 2,
   "id": "1e7b8687",
   "metadata": {},
   "outputs": [],
   "source": [
    "from datetime import datetime\n",
    "from pyspark.sql.functions import col\n",
    "from pyspark.sql.types import StructType, StructField, StringType, DateType"
   ]
  },
  {
   "cell_type": "code",
   "execution_count": 3,
   "id": "5ab4e4d9",
   "metadata": {},
   "outputs": [],
   "source": [
    " from pyspark.sql import SparkSession\n",
    "import os\n",
    "\n",
    "os.environ['PYSPARK_SUBMIT_ARGS'] = '--packages com.databricks:spark-xml_2.12:0.13.0 pyspark-shell'\n",
    "\n",
    "spark_session = SparkSession\\\n",
    "    .builder\\\n",
    "    .getOrCreate()"
   ]
  },
  {
   "cell_type": "code",
   "execution_count": 4,
   "id": "993a6550",
   "metadata": {},
   "outputs": [
    {
     "data": {
      "text/html": [
       "\n",
       "            <div>\n",
       "                <p><b>SparkSession - in-memory</b></p>\n",
       "                \n",
       "        <div>\n",
       "            <p><b>SparkContext</b></p>\n",
       "\n",
       "            <p><a href=\"http://maprdemo.mapr.io:4040\">Spark UI</a></p>\n",
       "\n",
       "            <dl>\n",
       "              <dt>Version</dt>\n",
       "                <dd><code>v2.4.5.0-mapr-700</code></dd>\n",
       "              <dt>Master</dt>\n",
       "                <dd><code>local[*]</code></dd>\n",
       "              <dt>AppName</dt>\n",
       "                <dd><code>pyspark-shell</code></dd>\n",
       "            </dl>\n",
       "        </div>\n",
       "        \n",
       "            </div>\n",
       "        "
      ],
      "text/plain": [
       "<pyspark.sql.session.SparkSession at 0x7fe75ad0e128>"
      ]
     },
     "execution_count": 4,
     "metadata": {},
     "output_type": "execute_result"
    }
   ],
   "source": [
    "spark_session"
   ]
  },
  {
   "cell_type": "code",
   "execution_count": 5,
   "id": "c8ae72bb",
   "metadata": {},
   "outputs": [],
   "source": [
    "sc = spark_session._sc"
   ]
  },
  {
   "cell_type": "markdown",
   "id": "89d27d78",
   "metadata": {},
   "source": [
    "## Проверка существования файлов"
   ]
  },
  {
   "cell_type": "code",
   "execution_count": 6,
   "id": "bdfd1974",
   "metadata": {},
   "outputs": [
    {
     "name": "stdout",
     "output_type": "stream",
     "text": [
      "name,wikipedia_url\r\n",
      "A# .NET,https://en.wikipedia.org/wiki/A_Sharp_(.NET)\r\n",
      "A# (Axiom),https://en.wikipedia.org/wiki/A_Sharp_(Axiom)\r\n",
      "A-0 System,https://en.wikipedia.org/wiki/A-0_System\r\n",
      "A+,https://en.wikipedia.org/wiki/A%2B_(programming_language)\r\n",
      "A++,https://en.wikipedia.org/wiki/A%2B%2B\r\n",
      "ABAP,https://en.wikipedia.org/wiki/ABAP\r\n",
      "ABC,https://en.wikipedia.org/wiki/ABC_(programming_language)\r\n",
      "ABC ALGOL,https://en.wikipedia.org/wiki/ABC_ALGOL\r\n",
      "ABSET,https://en.wikipedia.org/wiki/ABSET\r\n"
     ]
    }
   ],
   "source": [
    "!head /home/workspace/data/programming-languages.csv"
   ]
  },
  {
   "cell_type": "code",
   "execution_count": 7,
   "id": "43835f85",
   "metadata": {},
   "outputs": [
    {
     "name": "stdout",
     "output_type": "stream",
     "text": [
      "���<?xml version=\"1.0\" encoding=\"utf-8\"?>\r\n",
      "<posts>\r\n",
      "  <row Id=\"4\" PostTypeId=\"1\" AcceptedAnswerId=\"7\" CreationDate=\"2008-07-31T21:42:52.667\" Score=\"630\" ViewCount=\"42817\" Body=\"&lt;p&gt;I want to use a track-bar to change a form's opacity.&lt;/p&gt;&#xA;&#xA;&lt;p&gt;This is my code:&lt;/p&gt;&#xA;&#xA;&lt;pre&gt;&lt;code&gt;decimal trans = trackBar1.Value / 5000;&#xA;this.Opacity = trans;&#xA;&lt;/code&gt;&lt;/pre&gt;&#xA;&#xA;&lt;p&gt;When I build the application, it gives the following error:&lt;/p&gt;&#xA;&#xA;&lt;blockquote&gt;&#xA;  &lt;p&gt;Cannot implicitly convert type &lt;code&gt;'decimal'&lt;/code&gt; to &lt;code&gt;'double'&lt;/code&gt;&lt;/p&gt;&#xA;&lt;/blockquote&gt;&#xA;&#xA;&lt;p&gt;I tried using &lt;code&gt;trans&lt;/code&gt; and &lt;code&gt;double&lt;/code&gt; but then the control doesn't work. This code worked fine in a past VB.NET project.&lt;/p&gt;&#xA;\" OwnerUserId=\"8\" LastEditorUserId=\"3641067\" LastEditorDisplayName=\"Rich B\" LastEditDate=\"2019-07-19T01:39:54.173\" LastActivityDate=\"2019-07-19T01:39:54.173\" Title=\"Convert Decimal to Double?\" Tags=\"&lt;c#&gt;&lt;floating-point&gt;&lt;type-conversion&gt;&lt;double&gt;&lt;decimal&gt;\" AnswerCount=\"13\" CommentCount=\"2\" FavoriteCount=\"48\" CommunityOwnedDate=\"2012-10-31T16:42:47.213\" />\r\n"
     ]
    }
   ],
   "source": [
    "!head -n 3 /home/workspace/data/posts_sample.xml"
   ]
  },
  {
   "cell_type": "markdown",
   "id": "22425d6e",
   "metadata": {},
   "source": [
    "## Чтение файлов"
   ]
  },
  {
   "cell_type": "code",
   "execution_count": 8,
   "id": "cced0030",
   "metadata": {},
   "outputs": [],
   "source": [
    " prog_lang_schema = StructType([\n",
    "    StructField(\"name\", StringType(), False),\n",
    "    StructField(\"wikipedia_url\", StringType(), False),\n",
    "])"
   ]
  },
  {
   "cell_type": "code",
   "execution_count": 9,
   "id": "cc804cf4",
   "metadata": {},
   "outputs": [],
   "source": [
    "langs = spark_session.read.csv(\"file:///home/workspace/data/programming-languages.csv\", schema=prog_lang_schema)"
   ]
  },
  {
   "cell_type": "code",
   "execution_count": 10,
   "id": "9ed5f7c6",
   "metadata": {},
   "outputs": [
    {
     "data": {
      "text/plain": [
       "[Row(name='name', wikipedia_url='wikipedia_url'),\n",
       " Row(name='A# .NET', wikipedia_url='https://en.wikipedia.org/wiki/A_Sharp_(.NET)'),\n",
       " Row(name='A# (Axiom)', wikipedia_url='https://en.wikipedia.org/wiki/A_Sharp_(Axiom)'),\n",
       " Row(name='A-0 System', wikipedia_url='https://en.wikipedia.org/wiki/A-0_System'),\n",
       " Row(name='A+', wikipedia_url='https://en.wikipedia.org/wiki/A%2B_(programming_language)')]"
      ]
     },
     "execution_count": 10,
     "metadata": {},
     "output_type": "execute_result"
    }
   ],
   "source": [
    "langs.head(5)"
   ]
  },
  {
   "cell_type": "code",
   "execution_count": 11,
   "id": "6e15962c",
   "metadata": {},
   "outputs": [],
   "source": [
    "langs_list = [str(row[0]) for row in langs.select('name').collect()]"
   ]
  },
  {
   "cell_type": "code",
   "execution_count": 12,
   "id": "fcb059a0",
   "metadata": {},
   "outputs": [
    {
     "data": {
      "text/plain": [
       "['name', 'A# .NET', 'A# (Axiom)', 'A-0 System', 'A+']"
      ]
     },
     "execution_count": 12,
     "metadata": {},
     "output_type": "execute_result"
    }
   ],
   "source": [
    "langs_list[:5]"
   ]
  },
  {
   "cell_type": "code",
   "execution_count": 13,
   "id": "e16c5e3c",
   "metadata": {},
   "outputs": [
    {
     "name": "stdout",
     "output_type": "stream",
     "text": [
      "README.md\t\t\t   nyctaxi.csv\t\t      trips.csv\r\n",
      "list_of_countries_sorted_gini.txt  posts_sample.xml\t      warandsociety.txt\r\n",
      "nycTaxiFares.gz\t\t\t   programming-languages.csv\r\n",
      "nycTaxiRides.gz\t\t\t   stations.csv\r\n"
     ]
    }
   ],
   "source": [
    "!ls data"
   ]
  },
  {
   "cell_type": "code",
   "execution_count": 14,
   "id": "c3e31231",
   "metadata": {},
   "outputs": [],
   "source": [
    "posts_sample = spark_session.read.format(\"xml\").options(rowTag=\"row\").load('file:///home/workspace/data/posts_sample.xml')"
   ]
  },
  {
   "cell_type": "code",
   "execution_count": 15,
   "id": "0ce99ba9",
   "metadata": {},
   "outputs": [
    {
     "data": {
      "text/plain": [
       "[Row(_AcceptedAnswerId=7, _AnswerCount=13, _Body=\"<p>I want to use a track-bar to change a form's opacity.</p>\\n\\n<p>This is my code:</p>\\n\\n<pre><code>decimal trans = trackBar1.Value / 5000;\\nthis.Opacity = trans;\\n</code></pre>\\n\\n<p>When I build the application, it gives the following error:</p>\\n\\n<blockquote>\\n  <p>Cannot implicitly convert type <code>'decimal'</code> to <code>'double'</code></p>\\n</blockquote>\\n\\n<p>I tried using <code>trans</code> and <code>double</code> but then the control doesn't work. This code worked fine in a past VB.NET project.</p>\\n\", _ClosedDate=None, _CommentCount=2, _CommunityOwnedDate=datetime.datetime(2012, 10, 31, 16, 42, 47, 213000), _CreationDate=datetime.datetime(2008, 7, 31, 21, 42, 52, 667000), _FavoriteCount=48, _Id=4, _LastActivityDate=datetime.datetime(2019, 7, 19, 1, 39, 54, 173000), _LastEditDate=datetime.datetime(2019, 7, 19, 1, 39, 54, 173000), _LastEditorDisplayName='Rich B', _LastEditorUserId=3641067, _OwnerDisplayName=None, _OwnerUserId=8, _ParentId=None, _PostTypeId=1, _Score=630, _Tags='<c#><floating-point><type-conversion><double><decimal>', _Title='Convert Decimal to Double?', _ViewCount=42817),\n",
       " Row(_AcceptedAnswerId=31, _AnswerCount=6, _Body=\"<p>I have an absolutely positioned <code>div</code> containing several children, one of which is a relatively positioned <code>div</code>. When I use a <code>percentage-based width</code> on the child <code>div</code>, it collapses to <code>0 width</code> on IE7, but not on Firefox or Safari.</p>\\n\\n<p>If I use <code>pixel width</code>, it works. If the parent is relatively positioned, the percentage width on the child works.</p>\\n\\n<ol>\\n<li>Is there something I'm missing here?</li>\\n<li>Is there an easy fix for this besides the <code>pixel-based width</code> on the\\nchild?</li>\\n<li>Is there an area of the CSS specification that covers this?</li>\\n</ol>\\n\", _ClosedDate=None, _CommentCount=0, _CommunityOwnedDate=None, _CreationDate=datetime.datetime(2008, 7, 31, 22, 8, 8, 620000), _FavoriteCount=10, _Id=6, _LastActivityDate=datetime.datetime(2019, 7, 19, 1, 43, 4, 77000), _LastEditDate=datetime.datetime(2019, 7, 19, 1, 43, 4, 77000), _LastEditorDisplayName='Rich B', _LastEditorUserId=3641067, _OwnerDisplayName=None, _OwnerUserId=9, _ParentId=None, _PostTypeId=1, _Score=281, _Tags='<html><css><internet-explorer-7>', _Title='Percentage width child element in absolutely positioned parent on Internet Explorer 7', _ViewCount=18214)]"
      ]
     },
     "execution_count": 15,
     "metadata": {},
     "output_type": "execute_result"
    }
   ],
   "source": [
    "posts_sample.head(2)"
   ]
  },
  {
   "cell_type": "markdown",
   "id": "8cb15f64",
   "metadata": {},
   "source": [
    "## Обработка данных"
   ]
  },
  {
   "cell_type": "code",
   "execution_count": 16,
   "id": "301a6150",
   "metadata": {},
   "outputs": [],
   "source": [
    "def define_language(row):\n",
    "    language_tag = None\n",
    "    for lang in langs_list:\n",
    "        if '<' + lang.lower() + '>' in row._Tags.lower():\n",
    "            language_tag = lang\n",
    "            break\n",
    "    if language_tag is None:\n",
    "        return None\n",
    "    return (row._Id, language_tag)"
   ]
  },
  {
   "cell_type": "code",
   "execution_count": 17,
   "id": "288559da",
   "metadata": {},
   "outputs": [],
   "source": [
    "def check_date_range(row, year):\n",
    "    left_border = datetime(year=year, month=1, day=1)\n",
    "    right_border = datetime(year=year, month=12, day=31)\n",
    "    created_date = row._CreationDate\n",
    "    return created_date >= left_border and created_date <= right_border"
   ]
  },
  {
   "cell_type": "code",
   "execution_count": 18,
   "id": "5b84d5df",
   "metadata": {},
   "outputs": [
    {
     "name": "stdout",
     "output_type": "stream",
     "text": [
      "+---------------------+-------------+\n",
      "|Programming_Languages|Posts_of_2010|\n",
      "+---------------------+-------------+\n",
      "|                 Java|           52|\n",
      "|           JavaScript|           44|\n",
      "|                  PHP|           42|\n",
      "|               Python|           25|\n",
      "|          Objective-C|           22|\n",
      "|                    C|           20|\n",
      "|                 Ruby|           11|\n",
      "|               Delphi|            7|\n",
      "|                    R|            3|\n",
      "|                 Bash|            3|\n",
      "|          AppleScript|            3|\n",
      "|                 Perl|            3|\n",
      "|                   F#|            2|\n",
      "|              Haskell|            2|\n",
      "|                BASIC|            1|\n",
      "|                   Go|            1|\n",
      "|                Mouse|            1|\n",
      "|                XPath|            1|\n",
      "|         ActionScript|            1|\n",
      "|               MATLAB|            1|\n",
      "+---------------------+-------------+\n",
      "only showing top 20 rows\n",
      "\n",
      "+---------------------+-------------+\n",
      "|Programming_Languages|Posts_of_2011|\n",
      "+---------------------+-------------+\n",
      "|                  PHP|           97|\n",
      "|                 Java|           92|\n",
      "|           JavaScript|           82|\n",
      "|               Python|           35|\n",
      "|          Objective-C|           33|\n",
      "|                    C|           24|\n",
      "|                 Ruby|           17|\n",
      "|               Delphi|            8|\n",
      "|                 Perl|            8|\n",
      "|                 Bash|            7|\n",
      "|               MATLAB|            5|\n",
      "|         ActionScript|            4|\n",
      "|           ColdFusion|            4|\n",
      "|                    R|            3|\n",
      "|                Scala|            3|\n",
      "|              Clojure|            2|\n",
      "|                 CUDA|            2|\n",
      "|                FOCUS|            1|\n",
      "|               Groovy|            1|\n",
      "|                    D|            1|\n",
      "+---------------------+-------------+\n",
      "only showing top 20 rows\n",
      "\n",
      "+---------------------+-------------+\n",
      "|Programming_Languages|Posts_of_2012|\n",
      "+---------------------+-------------+\n",
      "|                  PHP|          136|\n",
      "|           JavaScript|          129|\n",
      "|                 Java|          124|\n",
      "|               Python|           65|\n",
      "|          Objective-C|           45|\n",
      "|                    C|           27|\n",
      "|                 Ruby|           25|\n",
      "|                 Bash|            9|\n",
      "|                    R|            9|\n",
      "|               MATLAB|            6|\n",
      "|                  Lua|            6|\n",
      "|                Scala|            6|\n",
      "|                 Curl|            4|\n",
      "|                XPath|            4|\n",
      "|               Delphi|            4|\n",
      "|         ActionScript|            3|\n",
      "|                 Perl|            3|\n",
      "|              Haskell|            3|\n",
      "|                   F#|            2|\n",
      "|                  Tcl|            2|\n",
      "+---------------------+-------------+\n",
      "only showing top 20 rows\n",
      "\n",
      "+---------------------+-------------+\n",
      "|Programming_Languages|Posts_of_2013|\n",
      "+---------------------+-------------+\n",
      "|           JavaScript|          196|\n",
      "|                 Java|          191|\n",
      "|                  PHP|          173|\n",
      "|               Python|           87|\n",
      "|          Objective-C|           40|\n",
      "|                    C|           36|\n",
      "|                 Ruby|           30|\n",
      "|                    R|           25|\n",
      "|                 Bash|           11|\n",
      "|                Scala|           10|\n",
      "|                 Perl|            8|\n",
      "|               MATLAB|            8|\n",
      "|               Delphi|            7|\n",
      "|                   Go|            6|\n",
      "|                   F#|            6|\n",
      "|           PowerShell|            6|\n",
      "|               Groovy|            5|\n",
      "|                 Curl|            4|\n",
      "|                  AWK|            4|\n",
      "|                  SAS|            4|\n",
      "+---------------------+-------------+\n",
      "only showing top 20 rows\n",
      "\n",
      "+---------------------+-------------+\n",
      "|Programming_Languages|Posts_of_2014|\n",
      "+---------------------+-------------+\n",
      "|           JavaScript|          235|\n",
      "|                 Java|          228|\n",
      "|                  PHP|          154|\n",
      "|               Python|          103|\n",
      "|                    C|           52|\n",
      "|          Objective-C|           49|\n",
      "|                    R|           28|\n",
      "|                 Ruby|           20|\n",
      "|               MATLAB|           16|\n",
      "|                 Bash|           13|\n",
      "|                 Perl|            9|\n",
      "|                Scala|            7|\n",
      "|           PowerShell|            7|\n",
      "|                  AWK|            5|\n",
      "|               Delphi|            5|\n",
      "|              Haskell|            4|\n",
      "|                   F#|            3|\n",
      "|                XPath|            3|\n",
      "|                 Curl|            3|\n",
      "|                  Lua|            3|\n",
      "+---------------------+-------------+\n",
      "only showing top 20 rows\n",
      "\n",
      "+---------------------+-------------+\n",
      "|Programming_Languages|Posts_of_2015|\n",
      "+---------------------+-------------+\n",
      "|           JavaScript|          270|\n",
      "|                 Java|          208|\n",
      "|                  PHP|          147|\n",
      "|               Python|          119|\n",
      "|                    R|           43|\n",
      "|                    C|           38|\n",
      "|          Objective-C|           30|\n",
      "|                 Ruby|           20|\n",
      "|               MATLAB|           16|\n",
      "|                Scala|           13|\n",
      "|                 Bash|           11|\n",
      "|               Delphi|            6|\n",
      "|           PowerShell|            6|\n",
      "|                  AWK|            5|\n",
      "|                 Perl|            5|\n",
      "|                Julia|            4|\n",
      "|                  SAS|            4|\n",
      "|                   Go|            3|\n",
      "|                 Curl|            3|\n",
      "|           ColdFusion|            3|\n",
      "+---------------------+-------------+\n",
      "only showing top 20 rows\n",
      "\n",
      "+---------------------+-------------+\n",
      "|Programming_Languages|Posts_of_2016|\n",
      "+---------------------+-------------+\n",
      "|           JavaScript|          271|\n",
      "|                 Java|          178|\n",
      "|               Python|          140|\n",
      "|                  PHP|          126|\n",
      "|                    R|           50|\n",
      "|                    C|           32|\n",
      "|                 Ruby|           21|\n",
      "|                 Bash|           16|\n",
      "|                Scala|           16|\n",
      "|               MATLAB|           15|\n",
      "|          Objective-C|           12|\n",
      "|           PowerShell|           11|\n",
      "|                   Go|            9|\n",
      "|           TypeScript|            8|\n",
      "|                  AWK|            7|\n",
      "|                 Curl|            5|\n",
      "|                  Lua|            4|\n",
      "|           ColdFusion|            4|\n",
      "|              Haskell|            4|\n",
      "|               Groovy|            3|\n",
      "+---------------------+-------------+\n",
      "only showing top 20 rows\n",
      "\n",
      "+---------------------+-------------+\n",
      "|Programming_Languages|Posts_of_2017|\n",
      "+---------------------+-------------+\n",
      "|           JavaScript|          244|\n",
      "|                 Java|          204|\n",
      "|               Python|          185|\n",
      "|                  PHP|          122|\n",
      "|                    R|           53|\n",
      "|                    C|           24|\n",
      "|          Objective-C|           19|\n",
      "|                 Ruby|           16|\n",
      "|           TypeScript|           14|\n",
      "|           PowerShell|           14|\n",
      "|                 Bash|           13|\n",
      "|                Scala|            9|\n",
      "|               MATLAB|            7|\n",
      "|              Haskell|            7|\n",
      "|                 Perl|            6|\n",
      "|                 Curl|            5|\n",
      "|                   Go|            4|\n",
      "|                  AWK|            4|\n",
      "|                   Io|            4|\n",
      "|               Delphi|            3|\n",
      "+---------------------+-------------+\n",
      "only showing top 20 rows\n",
      "\n",
      "+---------------------+-------------+\n",
      "|Programming_Languages|Posts_of_2018|\n",
      "+---------------------+-------------+\n",
      "|               Python|          214|\n",
      "|           JavaScript|          194|\n",
      "|                 Java|          145|\n",
      "|                  PHP|           99|\n",
      "|                    R|           63|\n",
      "|                    C|           24|\n",
      "|                Scala|           22|\n",
      "|           TypeScript|           21|\n",
      "|           PowerShell|           13|\n",
      "|                 Bash|           12|\n",
      "|                   Go|           11|\n",
      "|          Objective-C|           10|\n",
      "|                 Ruby|            9|\n",
      "|                 Rust|            6|\n",
      "|               Kotlin|            6|\n",
      "|               MATLAB|            5|\n",
      "|                 Curl|            4|\n",
      "|                 Perl|            4|\n",
      "|                  AWK|            3|\n",
      "|                XPath|            3|\n",
      "+---------------------+-------------+\n",
      "only showing top 20 rows\n",
      "\n",
      "+---------------------+-------------+\n",
      "|Programming_Languages|Posts_of_2019|\n",
      "+---------------------+-------------+\n",
      "|               Python|          162|\n",
      "|           JavaScript|          131|\n",
      "|                 Java|           95|\n",
      "|                  PHP|           59|\n",
      "|                    R|           36|\n",
      "|                    C|           14|\n",
      "|                   Go|            9|\n",
      "|               MATLAB|            9|\n",
      "|                 Dart|            9|\n",
      "|                 Bash|            8|\n",
      "|                 Ruby|            8|\n",
      "|               Kotlin|            8|\n",
      "|           PowerShell|            8|\n",
      "|                Scala|            6|\n",
      "|           TypeScript|            6|\n",
      "|               Delphi|            4|\n",
      "|                  AWK|            4|\n",
      "|                 Curl|            3|\n",
      "|                   F#|            3|\n",
      "|                 Perl|            3|\n",
      "+---------------------+-------------+\n",
      "only showing top 20 rows\n",
      "\n"
     ]
    }
   ],
   "source": [
    "top_languages_array = {}\n",
    "years = range(2010, 2020)\n",
    "for year in years:\n",
    "    top_languages_array[year] = posts_sample.rdd\\\n",
    "        .filter(lambda row: row._Tags is not None and check_date_range(row, year))\\\n",
    "        .map(define_language)\\\n",
    "        .filter(lambda row: row is not None)\\\n",
    "        .keyBy(lambda row: row[1])\\\n",
    "        .aggregateByKey(\n",
    "            0,\n",
    "            lambda acc, value: acc + 1,\n",
    "            lambda acc1, acc2: acc1 + acc2,\n",
    "        )\\\n",
    "        .sortBy(lambda row: row[1], ascending=False)\\\n",
    "        .toDF()\n",
    "    top_languages_array[year] = top_languages_array[year].select(col('_1').alias(f'Programming_Languages'), \n",
    "                                                                 col('_2').alias(f'Posts_of_{year}'))\n",
    "    top_languages_array[year].show()"
   ]
  },
  {
   "cell_type": "markdown",
   "id": "711d905c",
   "metadata": {},
   "source": [
    "## Запись результатов"
   ]
  },
  {
   "cell_type": "code",
   "execution_count": 19,
   "id": "13aad64d",
   "metadata": {},
   "outputs": [],
   "source": [
    "parquetFiles = []\n",
    "for year in top_languages_array.keys():\n",
    "    top_languages_array[year].write.parquet(f\"/My_parquets/top_programming_languages_of_{year}.parquet\")\n",
    "    parquetFile = spark_session.read.parquet(f\"/My_parquets/top_programming_languages_of_{year}.parquet\")\n",
    "    parquetFile.createOrReplaceTempView(f\"parquetFile_{year}\")\n",
    "    parquetFiles.append(parquetFile)"
   ]
  },
  {
   "cell_type": "code",
   "execution_count": 20,
   "id": "3a768dcd",
   "metadata": {},
   "outputs": [
    {
     "name": "stdout",
     "output_type": "stream",
     "text": [
      "Top 10 of 2010\n",
      "+---------------------+\n",
      "|Programming_Languages|\n",
      "+---------------------+\n",
      "|                 Java|\n",
      "|           JavaScript|\n",
      "|                  PHP|\n",
      "|               Python|\n",
      "|          Objective-C|\n",
      "|                    C|\n",
      "|                 Ruby|\n",
      "|               Delphi|\n",
      "|                 Bash|\n",
      "|          AppleScript|\n",
      "+---------------------+\n",
      "\n",
      "Top 10 of 2011\n",
      "+---------------------+\n",
      "|Programming_Languages|\n",
      "+---------------------+\n",
      "|                  PHP|\n",
      "|                 Java|\n",
      "|           JavaScript|\n",
      "|               Python|\n",
      "|          Objective-C|\n",
      "|                    C|\n",
      "|                 Ruby|\n",
      "|               Delphi|\n",
      "|                 Perl|\n",
      "|                 Bash|\n",
      "+---------------------+\n",
      "\n",
      "Top 10 of 2012\n",
      "+---------------------+\n",
      "|Programming_Languages|\n",
      "+---------------------+\n",
      "|                  PHP|\n",
      "|           JavaScript|\n",
      "|                 Java|\n",
      "|               Python|\n",
      "|          Objective-C|\n",
      "|                    C|\n",
      "|                 Ruby|\n",
      "|                 Bash|\n",
      "|                    R|\n",
      "|               MATLAB|\n",
      "+---------------------+\n",
      "\n",
      "Top 10 of 2013\n",
      "+---------------------+\n",
      "|Programming_Languages|\n",
      "+---------------------+\n",
      "|           JavaScript|\n",
      "|                 Java|\n",
      "|                  PHP|\n",
      "|               Python|\n",
      "|          Objective-C|\n",
      "|                    C|\n",
      "|                 Ruby|\n",
      "|                    R|\n",
      "|                 Bash|\n",
      "|                Scala|\n",
      "+---------------------+\n",
      "\n",
      "Top 10 of 2014\n",
      "+---------------------+\n",
      "|Programming_Languages|\n",
      "+---------------------+\n",
      "|           JavaScript|\n",
      "|                 Java|\n",
      "|                  PHP|\n",
      "|               Python|\n",
      "|                    C|\n",
      "|          Objective-C|\n",
      "|                    R|\n",
      "|                 Ruby|\n",
      "|               MATLAB|\n",
      "|                 Bash|\n",
      "+---------------------+\n",
      "\n",
      "Top 10 of 2015\n",
      "+---------------------+\n",
      "|Programming_Languages|\n",
      "+---------------------+\n",
      "|           JavaScript|\n",
      "|                 Java|\n",
      "|                  PHP|\n",
      "|               Python|\n",
      "|                    R|\n",
      "|                    C|\n",
      "|          Objective-C|\n",
      "|                 Ruby|\n",
      "|               MATLAB|\n",
      "|                Scala|\n",
      "+---------------------+\n",
      "\n",
      "Top 10 of 2016\n",
      "+---------------------+\n",
      "|Programming_Languages|\n",
      "+---------------------+\n",
      "|           JavaScript|\n",
      "|                 Java|\n",
      "|               Python|\n",
      "|                  PHP|\n",
      "|                    R|\n",
      "|                    C|\n",
      "|                 Ruby|\n",
      "|                 Bash|\n",
      "|                Scala|\n",
      "|               MATLAB|\n",
      "+---------------------+\n",
      "\n",
      "Top 10 of 2017\n",
      "+---------------------+\n",
      "|Programming_Languages|\n",
      "+---------------------+\n",
      "|           JavaScript|\n",
      "|                 Java|\n",
      "|               Python|\n",
      "|                  PHP|\n",
      "|                    R|\n",
      "|                    C|\n",
      "|          Objective-C|\n",
      "|                 Ruby|\n",
      "|           PowerShell|\n",
      "|           TypeScript|\n",
      "+---------------------+\n",
      "\n",
      "Top 10 of 2018\n",
      "+---------------------+\n",
      "|Programming_Languages|\n",
      "+---------------------+\n",
      "|               Python|\n",
      "|           JavaScript|\n",
      "|                 Java|\n",
      "|                  PHP|\n",
      "|                    R|\n",
      "|                    C|\n",
      "|                Scala|\n",
      "|           TypeScript|\n",
      "|           PowerShell|\n",
      "|                 Bash|\n",
      "+---------------------+\n",
      "\n",
      "Top 10 of 2019\n",
      "+---------------------+\n",
      "|Programming_Languages|\n",
      "+---------------------+\n",
      "|               Python|\n",
      "|           JavaScript|\n",
      "|                 Java|\n",
      "|                  PHP|\n",
      "|                    R|\n",
      "|                    C|\n",
      "|               MATLAB|\n",
      "|                   Go|\n",
      "|                 Dart|\n",
      "|               Kotlin|\n",
      "+---------------------+\n",
      "\n"
     ]
    }
   ],
   "source": [
    "for i in range(len(years)):\n",
    "    print(f\"Top 10 of {years[i]}\")\n",
    "    spark_session.sql(f\"SELECT Programming_Languages FROM parquetFile_{years[i]} ORDER BY Posts_of_{years[i]} DESC LIMIT 10\")\\\n",
    "        .show()"
   ]
  },
  {
   "cell_type": "code",
   "execution_count": null,
   "id": "a4e7cd14",
   "metadata": {},
   "outputs": [],
   "source": []
  }
 ],
 "metadata": {
  "kernelspec": {
   "display_name": "Python 3",
   "language": "python",
   "name": "python3"
  },
  "language_info": {
   "codemirror_mode": {
    "name": "ipython",
    "version": 3
   },
   "file_extension": ".py",
   "mimetype": "text/x-python",
   "name": "python",
   "nbconvert_exporter": "python",
   "pygments_lexer": "ipython3",
   "version": "3.6.9"
  }
 },
 "nbformat": 4,
 "nbformat_minor": 5
}
