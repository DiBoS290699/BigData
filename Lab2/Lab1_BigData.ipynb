{
 "cells": [
  {
   "cell_type": "markdown",
   "id": "7aaeb47b",
   "metadata": {},
   "source": [
    "# Borisov Dmitriy 6133 Lab2"
   ]
  },
  {
   "cell_type": "markdown",
   "id": "a06724fc",
   "metadata": {},
   "source": [
    "## Инициализация спарка"
   ]
  },
  {
   "cell_type": "code",
   "execution_count": 1,
   "id": "e7f7ba94",
   "metadata": {},
   "outputs": [],
   "source": [
    "import findspark\n",
    "findspark.init()"
   ]
  },
  {
   "cell_type": "code",
   "execution_count": 2,
   "id": "1e7b8687",
   "metadata": {},
   "outputs": [],
   "source": [
    "from datetime import datetime\n",
    "from pyspark.sql.functions import col\n",
    "from pyspark.sql.types import StructType, StructField, StringType, DateType"
   ]
  },
  {
   "cell_type": "code",
   "execution_count": 3,
   "id": "5ab4e4d9",
   "metadata": {},
   "outputs": [],
   "source": [
    " from pyspark.sql import SparkSession\n",
    "import os\n",
    "\n",
    "os.environ['PYSPARK_SUBMIT_ARGS'] = '--packages com.databricks:spark-xml_2.12:0.13.0 pyspark-shell'\n",
    "\n",
    "spark_session = SparkSession\\\n",
    "    .builder\\\n",
    "    .getOrCreate()"
   ]
  },
  {
   "cell_type": "code",
   "execution_count": 4,
   "id": "993a6550",
   "metadata": {},
   "outputs": [
    {
     "data": {
      "text/html": [
       "\n",
       "            <div>\n",
       "                <p><b>SparkSession - in-memory</b></p>\n",
       "                \n",
       "        <div>\n",
       "            <p><b>SparkContext</b></p>\n",
       "\n",
       "            <p><a href=\"http://maprdemo.mapr.io:4040\">Spark UI</a></p>\n",
       "\n",
       "            <dl>\n",
       "              <dt>Version</dt>\n",
       "                <dd><code>v2.4.5.0-mapr-700</code></dd>\n",
       "              <dt>Master</dt>\n",
       "                <dd><code>local[*]</code></dd>\n",
       "              <dt>AppName</dt>\n",
       "                <dd><code>pyspark-shell</code></dd>\n",
       "            </dl>\n",
       "        </div>\n",
       "        \n",
       "            </div>\n",
       "        "
      ],
      "text/plain": [
       "<pyspark.sql.session.SparkSession at 0x7f902668d198>"
      ]
     },
     "execution_count": 4,
     "metadata": {},
     "output_type": "execute_result"
    }
   ],
   "source": [
    "spark_session"
   ]
  },
  {
   "cell_type": "code",
   "execution_count": 5,
   "id": "c8ae72bb",
   "metadata": {},
   "outputs": [],
   "source": [
    "sc = spark_session._sc"
   ]
  },
  {
   "cell_type": "markdown",
   "id": "89d27d78",
   "metadata": {},
   "source": [
    "## Проверка существования файлов"
   ]
  },
  {
   "cell_type": "code",
   "execution_count": 6,
   "id": "bdfd1974",
   "metadata": {},
   "outputs": [
    {
     "name": "stdout",
     "output_type": "stream",
     "text": [
      "name,wikipedia_url\r\n",
      "A# .NET,https://en.wikipedia.org/wiki/A_Sharp_(.NET)\r\n",
      "A# (Axiom),https://en.wikipedia.org/wiki/A_Sharp_(Axiom)\r\n",
      "A-0 System,https://en.wikipedia.org/wiki/A-0_System\r\n",
      "A+,https://en.wikipedia.org/wiki/A%2B_(programming_language)\r\n",
      "A++,https://en.wikipedia.org/wiki/A%2B%2B\r\n",
      "ABAP,https://en.wikipedia.org/wiki/ABAP\r\n",
      "ABC,https://en.wikipedia.org/wiki/ABC_(programming_language)\r\n",
      "ABC ALGOL,https://en.wikipedia.org/wiki/ABC_ALGOL\r\n",
      "ABSET,https://en.wikipedia.org/wiki/ABSET\r\n"
     ]
    }
   ],
   "source": [
    "!head /home/workspace/data/programming-languages.csv"
   ]
  },
  {
   "cell_type": "code",
   "execution_count": 7,
   "id": "43835f85",
   "metadata": {},
   "outputs": [
    {
     "name": "stdout",
     "output_type": "stream",
     "text": [
      "���<?xml version=\"1.0\" encoding=\"utf-8\"?>\r\n",
      "<posts>\r\n",
      "  <row Id=\"4\" PostTypeId=\"1\" AcceptedAnswerId=\"7\" CreationDate=\"2008-07-31T21:42:52.667\" Score=\"630\" ViewCount=\"42817\" Body=\"&lt;p&gt;I want to use a track-bar to change a form's opacity.&lt;/p&gt;&#xA;&#xA;&lt;p&gt;This is my code:&lt;/p&gt;&#xA;&#xA;&lt;pre&gt;&lt;code&gt;decimal trans = trackBar1.Value / 5000;&#xA;this.Opacity = trans;&#xA;&lt;/code&gt;&lt;/pre&gt;&#xA;&#xA;&lt;p&gt;When I build the application, it gives the following error:&lt;/p&gt;&#xA;&#xA;&lt;blockquote&gt;&#xA;  &lt;p&gt;Cannot implicitly convert type &lt;code&gt;'decimal'&lt;/code&gt; to &lt;code&gt;'double'&lt;/code&gt;&lt;/p&gt;&#xA;&lt;/blockquote&gt;&#xA;&#xA;&lt;p&gt;I tried using &lt;code&gt;trans&lt;/code&gt; and &lt;code&gt;double&lt;/code&gt; but then the control doesn't work. This code worked fine in a past VB.NET project.&lt;/p&gt;&#xA;\" OwnerUserId=\"8\" LastEditorUserId=\"3641067\" LastEditorDisplayName=\"Rich B\" LastEditDate=\"2019-07-19T01:39:54.173\" LastActivityDate=\"2019-07-19T01:39:54.173\" Title=\"Convert Decimal to Double?\" Tags=\"&lt;c#&gt;&lt;floating-point&gt;&lt;type-conversion&gt;&lt;double&gt;&lt;decimal&gt;\" AnswerCount=\"13\" CommentCount=\"2\" FavoriteCount=\"48\" CommunityOwnedDate=\"2012-10-31T16:42:47.213\" />\r\n"
     ]
    }
   ],
   "source": [
    "!head -n 3 /home/workspace/data/posts_sample.xml"
   ]
  },
  {
   "cell_type": "markdown",
   "id": "22425d6e",
   "metadata": {},
   "source": [
    "## Чтение и обработка файлов"
   ]
  },
  {
   "cell_type": "code",
   "execution_count": 8,
   "id": "cced0030",
   "metadata": {},
   "outputs": [],
   "source": [
    " prog_lang_schema = StructType([\n",
    "    StructField(\"name\", StringType(), False),\n",
    "    StructField(\"wikipedia_url\", StringType(), False),\n",
    "])"
   ]
  },
  {
   "cell_type": "code",
   "execution_count": 9,
   "id": "cc804cf4",
   "metadata": {},
   "outputs": [],
   "source": [
    "langs = spark_session.read.csv(\"file:///home/workspace/data/programming-languages.csv\", schema=prog_lang_schema)"
   ]
  },
  {
   "cell_type": "code",
   "execution_count": 10,
   "id": "9ed5f7c6",
   "metadata": {},
   "outputs": [
    {
     "data": {
      "text/plain": [
       "[Row(name='name', wikipedia_url='wikipedia_url'),\n",
       " Row(name='A# .NET', wikipedia_url='https://en.wikipedia.org/wiki/A_Sharp_(.NET)'),\n",
       " Row(name='A# (Axiom)', wikipedia_url='https://en.wikipedia.org/wiki/A_Sharp_(Axiom)'),\n",
       " Row(name='A-0 System', wikipedia_url='https://en.wikipedia.org/wiki/A-0_System'),\n",
       " Row(name='A+', wikipedia_url='https://en.wikipedia.org/wiki/A%2B_(programming_language)')]"
      ]
     },
     "execution_count": 10,
     "metadata": {},
     "output_type": "execute_result"
    }
   ],
   "source": [
    "langs.head(5)"
   ]
  },
  {
   "cell_type": "code",
   "execution_count": 11,
   "id": "6e15962c",
   "metadata": {},
   "outputs": [],
   "source": [
    "langs_list = [str(row[0]) for row in langs.select('name').collect()]"
   ]
  },
  {
   "cell_type": "code",
   "execution_count": 12,
   "id": "fcb059a0",
   "metadata": {},
   "outputs": [
    {
     "data": {
      "text/plain": [
       "['name', 'A# .NET', 'A# (Axiom)', 'A-0 System', 'A+']"
      ]
     },
     "execution_count": 12,
     "metadata": {},
     "output_type": "execute_result"
    }
   ],
   "source": [
    "langs_list[:5]"
   ]
  },
  {
   "cell_type": "code",
   "execution_count": 13,
   "id": "e16c5e3c",
   "metadata": {},
   "outputs": [
    {
     "name": "stdout",
     "output_type": "stream",
     "text": [
      "README.md\t\t\t   nyctaxi.csv\t\t      trips.csv\r\n",
      "list_of_countries_sorted_gini.txt  posts_sample.xml\t      warandsociety.txt\r\n",
      "nycTaxiFares.gz\t\t\t   programming-languages.csv\r\n",
      "nycTaxiRides.gz\t\t\t   stations.csv\r\n"
     ]
    }
   ],
   "source": [
    "!ls data"
   ]
  },
  {
   "cell_type": "code",
   "execution_count": 14,
   "id": "c3e31231",
   "metadata": {},
   "outputs": [],
   "source": [
    "posts_sample = spark_session.read.format(\"xml\").options(rowTag=\"row\").load('file:///home/workspace/data/posts_sample.xml')"
   ]
  },
  {
   "cell_type": "code",
   "execution_count": 15,
   "id": "0ce99ba9",
   "metadata": {},
   "outputs": [
    {
     "data": {
      "text/plain": [
       "[Row(_AcceptedAnswerId=7, _AnswerCount=13, _Body=\"<p>I want to use a track-bar to change a form's opacity.</p>\\n\\n<p>This is my code:</p>\\n\\n<pre><code>decimal trans = trackBar1.Value / 5000;\\nthis.Opacity = trans;\\n</code></pre>\\n\\n<p>When I build the application, it gives the following error:</p>\\n\\n<blockquote>\\n  <p>Cannot implicitly convert type <code>'decimal'</code> to <code>'double'</code></p>\\n</blockquote>\\n\\n<p>I tried using <code>trans</code> and <code>double</code> but then the control doesn't work. This code worked fine in a past VB.NET project.</p>\\n\", _ClosedDate=None, _CommentCount=2, _CommunityOwnedDate=datetime.datetime(2012, 10, 31, 16, 42, 47, 213000), _CreationDate=datetime.datetime(2008, 7, 31, 21, 42, 52, 667000), _FavoriteCount=48, _Id=4, _LastActivityDate=datetime.datetime(2019, 7, 19, 1, 39, 54, 173000), _LastEditDate=datetime.datetime(2019, 7, 19, 1, 39, 54, 173000), _LastEditorDisplayName='Rich B', _LastEditorUserId=3641067, _OwnerDisplayName=None, _OwnerUserId=8, _ParentId=None, _PostTypeId=1, _Score=630, _Tags='<c#><floating-point><type-conversion><double><decimal>', _Title='Convert Decimal to Double?', _ViewCount=42817),\n",
       " Row(_AcceptedAnswerId=31, _AnswerCount=6, _Body=\"<p>I have an absolutely positioned <code>div</code> containing several children, one of which is a relatively positioned <code>div</code>. When I use a <code>percentage-based width</code> on the child <code>div</code>, it collapses to <code>0 width</code> on IE7, but not on Firefox or Safari.</p>\\n\\n<p>If I use <code>pixel width</code>, it works. If the parent is relatively positioned, the percentage width on the child works.</p>\\n\\n<ol>\\n<li>Is there something I'm missing here?</li>\\n<li>Is there an easy fix for this besides the <code>pixel-based width</code> on the\\nchild?</li>\\n<li>Is there an area of the CSS specification that covers this?</li>\\n</ol>\\n\", _ClosedDate=None, _CommentCount=0, _CommunityOwnedDate=None, _CreationDate=datetime.datetime(2008, 7, 31, 22, 8, 8, 620000), _FavoriteCount=10, _Id=6, _LastActivityDate=datetime.datetime(2019, 7, 19, 1, 43, 4, 77000), _LastEditDate=datetime.datetime(2019, 7, 19, 1, 43, 4, 77000), _LastEditorDisplayName='Rich B', _LastEditorUserId=3641067, _OwnerDisplayName=None, _OwnerUserId=9, _ParentId=None, _PostTypeId=1, _Score=281, _Tags='<html><css><internet-explorer-7>', _Title='Percentage width child element in absolutely positioned parent on Internet Explorer 7', _ViewCount=18214)]"
      ]
     },
     "execution_count": 15,
     "metadata": {},
     "output_type": "execute_result"
    }
   ],
   "source": [
    "posts_sample.head(2)"
   ]
  },
  {
   "cell_type": "code",
   "execution_count": 16,
   "id": "301a6150",
   "metadata": {},
   "outputs": [],
   "source": [
    "def define_language(row):\n",
    "    language_tag = None\n",
    "    for lang in langs_list:\n",
    "        if '<' + lang.lower() + '>' in row._Tags.lower():\n",
    "            language_tag = lang\n",
    "            break\n",
    "    if language_tag is None:\n",
    "        return None\n",
    "    return (row._Id, language_tag)"
   ]
  },
  {
   "cell_type": "code",
   "execution_count": 17,
   "id": "288559da",
   "metadata": {},
   "outputs": [],
   "source": [
    "def check_date_range(row):\n",
    "    left_border = datetime(year=2010, month=1, day=1)\n",
    "    right_border = datetime(year=2020, month=1, day=1)\n",
    "    created_date = row._CreationDate\n",
    "    return created_date > left_border and created_date < right_border"
   ]
  },
  {
   "cell_type": "code",
   "execution_count": 18,
   "id": "5b84d5df",
   "metadata": {},
   "outputs": [],
   "source": [
    "top_languages = posts_sample.rdd\\\n",
    "    .filter(lambda row: row._Tags is not None and check_date_range(row))\\\n",
    "    .map(define_language)\\\n",
    "    .filter(lambda row: row is not None)\\\n",
    "    .keyBy(lambda row: row[1])\\\n",
    "    .aggregateByKey(\n",
    "        0,\n",
    "        lambda acc, value: acc + 1,\n",
    "        lambda acc1, acc2: acc1 + acc2,\n",
    "    )\\\n",
    "    .sortBy(lambda row: row[1], ascending=False)\\\n",
    "    .toDF()"
   ]
  },
  {
   "cell_type": "code",
   "execution_count": 19,
   "id": "1abaf1c9",
   "metadata": {},
   "outputs": [],
   "source": [
    "top_languages = top_languages.select(col('_1').alias('Programming_Languages'), col('_2').alias('Posts'))"
   ]
  },
  {
   "cell_type": "code",
   "execution_count": 20,
   "id": "13aad64d",
   "metadata": {},
   "outputs": [
    {
     "name": "stdout",
     "output_type": "stream",
     "text": [
      "+---------------------+-----+\n",
      "|Programming_Languages|Posts|\n",
      "+---------------------+-----+\n",
      "|           JavaScript| 1799|\n",
      "|                 Java| 1518|\n",
      "|                  PHP| 1155|\n",
      "|               Python| 1136|\n",
      "|                    R|  313|\n",
      "|                    C|  291|\n",
      "|          Objective-C|  262|\n",
      "|                 Ruby|  178|\n",
      "|                 Bash|  103|\n",
      "|                Scala|   92|\n",
      "|               MATLAB|   88|\n",
      "|           PowerShell|   68|\n",
      "|                 Perl|   51|\n",
      "|               Delphi|   49|\n",
      "|           TypeScript|   49|\n",
      "|                   Go|   45|\n",
      "|                  AWK|   34|\n",
      "|                 Curl|   31|\n",
      "|              Haskell|   31|\n",
      "|                   F#|   22|\n",
      "+---------------------+-----+\n",
      "only showing top 20 rows\n",
      "\n"
     ]
    }
   ],
   "source": [
    "top_languages.show()"
   ]
  },
  {
   "cell_type": "markdown",
   "id": "df1fe376",
   "metadata": {},
   "source": [
    "## Запись результатов"
   ]
  },
  {
   "cell_type": "code",
   "execution_count": 22,
   "id": "3a768dcd",
   "metadata": {},
   "outputs": [],
   "source": [
    "top_languages.write.parquet(\"top.parquet\")"
   ]
  },
  {
   "cell_type": "code",
   "execution_count": 23,
   "id": "a052ad12",
   "metadata": {},
   "outputs": [],
   "source": [
    "parquetFile = spark_session.read.parquet(\"top.parquet\")"
   ]
  },
  {
   "cell_type": "code",
   "execution_count": 26,
   "id": "ca303ead",
   "metadata": {},
   "outputs": [
    {
     "name": "stdout",
     "output_type": "stream",
     "text": [
      "+---------------------+\n",
      "|Programming_Languages|\n",
      "+---------------------+\n",
      "|           JavaScript|\n",
      "|                 Java|\n",
      "|                  PHP|\n",
      "|               Python|\n",
      "|                    R|\n",
      "|                    C|\n",
      "|          Objective-C|\n",
      "|                 Ruby|\n",
      "|                 Bash|\n",
      "|                Scala|\n",
      "+---------------------+\n",
      "\n"
     ]
    }
   ],
   "source": [
    "parquetFile.createOrReplaceTempView(\"parquetFile\")\n",
    "top_10 = spark_session.sql(\"SELECT Programming_Languages FROM parquetFile ORDER BY Posts DESC LIMIT 10\")\n",
    "top_10.show()"
   ]
  }
 ],
 "metadata": {
  "kernelspec": {
   "display_name": "Python 3",
   "language": "python",
   "name": "python3"
  },
  "language_info": {
   "codemirror_mode": {
    "name": "ipython",
    "version": 3
   },
   "file_extension": ".py",
   "mimetype": "text/x-python",
   "name": "python",
   "nbconvert_exporter": "python",
   "pygments_lexer": "ipython3",
   "version": "3.6.9"
  }
 },
 "nbformat": 4,
 "nbformat_minor": 5
}
