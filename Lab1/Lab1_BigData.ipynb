{
 "cells": [
  {
   "cell_type": "markdown",
   "id": "bbce9dcc",
   "metadata": {},
   "source": [
    "# Лабораторная работа №1\n",
    "\n",
    "Борисов Дмитрий (6133-010402D)"
   ]
  },
  {
   "cell_type": "markdown",
   "id": "2221371f",
   "metadata": {},
   "source": [
    "**Задачи**:\n",
    "1) Найти велосипед с максимальным пробегом.\n",
    "\n",
    "2) Найти наибольшее расстояние между станциями.\n",
    "\n",
    "3) Найти путь велосипеда с максимальным пробегом через станции.\n",
    "\n",
    "4) Найти количество велосипедов в системе.\n",
    "\n",
    "5) Найти пользователей потративших на поездки более 3 часов."
   ]
  },
  {
   "cell_type": "code",
   "execution_count": 1,
   "id": "09164688",
   "metadata": {},
   "outputs": [
    {
     "name": "stdout",
     "output_type": "stream",
     "text": [
      "Requirement already satisfied: pyspark in /usr/local/lib/python3.6/dist-packages (3.1.2)\n",
      "Requirement already satisfied: py4j==0.10.9 in /usr/local/lib/python3.6/dist-packages (from pyspark) (0.10.9)\n",
      "\u001b[33mWARNING: Running pip as the 'root' user can result in broken permissions and conflicting behaviour with the system package manager. It is recommended to use a virtual environment instead: https://pip.pypa.io/warnings/venv\u001b[0m\n"
     ]
    }
   ],
   "source": [
    "!pip install pyspark"
   ]
  },
  {
   "cell_type": "code",
   "execution_count": 2,
   "id": "81128b53",
   "metadata": {},
   "outputs": [],
   "source": [
    "from pyspark import SparkContext, SparkConf "
   ]
  },
  {
   "cell_type": "code",
   "execution_count": 3,
   "id": "3fb8a22f",
   "metadata": {
    "scrolled": true
   },
   "outputs": [],
   "source": [
    "conf = SparkConf().setAppName(\"Lab1_BigData\").setMaster('local[1]')\n",
    "sc = SparkContext(conf=conf)"
   ]
  },
  {
   "cell_type": "code",
   "execution_count": 4,
   "id": "11a3925e",
   "metadata": {},
   "outputs": [
    {
     "data": {
      "text/html": [
       "\n",
       "        <div>\n",
       "            <p><b>SparkContext</b></p>\n",
       "\n",
       "            <p><a href=\"http://maprdemo.mapr.io:4040\">Spark UI</a></p>\n",
       "\n",
       "            <dl>\n",
       "              <dt>Version</dt>\n",
       "                <dd><code>v3.1.2</code></dd>\n",
       "              <dt>Master</dt>\n",
       "                <dd><code>local[1]</code></dd>\n",
       "              <dt>AppName</dt>\n",
       "                <dd><code>Lab1_BigData</code></dd>\n",
       "            </dl>\n",
       "        </div>\n",
       "        "
      ],
      "text/plain": [
       "<SparkContext master=local[1] appName=Lab1_BigData>"
      ]
     },
     "execution_count": 4,
     "metadata": {},
     "output_type": "execute_result"
    }
   ],
   "source": [
    "sc"
   ]
  },
  {
   "cell_type": "markdown",
   "id": "ed496818",
   "metadata": {},
   "source": [
    "### Считывание файлов"
   ]
  },
  {
   "cell_type": "code",
   "execution_count": 5,
   "id": "aef3bf9a",
   "metadata": {},
   "outputs": [
    {
     "data": {
      "text/plain": [
       "['4576,63,2013-08-29 14:13,South Van Ness at Market,66,2013-08-29 14:14,South Van Ness at Market,66,520,Subscriber,94127',\n",
       " '4607,70,2013-08-29 14:42,San Jose City Hall,10,2013-08-29 14:43,San Jose City Hall,10,661,Subscriber,95138',\n",
       " '4130,71,2013-08-29 10:16,Mountain View City Hall,27,2013-08-29 10:17,Mountain View City Hall,27,48,Subscriber,97214',\n",
       " '4251,77,2013-08-29 11:29,San Jose City Hall,10,2013-08-29 11:30,San Jose City Hall,10,26,Subscriber,95060',\n",
       " '4299,83,2013-08-29 12:02,South Van Ness at Market,66,2013-08-29 12:04,Market at 10th,67,319,Subscriber,94103',\n",
       " '4927,103,2013-08-29 18:54,Golden Gate at Polk,59,2013-08-29 18:56,Golden Gate at Polk,59,527,Subscriber,94109',\n",
       " '4500,109,2013-08-29 13:25,Santa Clara at Almaden,4,2013-08-29 13:27,Adobe on Almaden,5,679,Subscriber,95112',\n",
       " '4563,111,2013-08-29 14:02,San Salvador at 1st,8,2013-08-29 14:04,San Salvador at 1st,8,687,Subscriber,95112',\n",
       " '4760,113,2013-08-29 17:01,South Van Ness at Market,66,2013-08-29 17:03,South Van Ness at Market,66,553,Subscriber,94103',\n",
       " '4258,114,2013-08-29 11:33,San Jose City Hall,10,2013-08-29 11:35,MLK Library,11,107,Subscriber,95060']"
      ]
     },
     "execution_count": 5,
     "metadata": {},
     "output_type": "execute_result"
    }
   ],
   "source": [
    "trips = sc.textFile(\"/mnt/data/trips.csv\")\n",
    "trips.take(10)"
   ]
  },
  {
   "cell_type": "code",
   "execution_count": 6,
   "id": "33674615",
   "metadata": {},
   "outputs": [
    {
     "data": {
      "text/plain": [
       "['2,San Jose Diridon Caltrain Station,37.329732,-121.901782,27,San Jose,2013-08-06,',\n",
       " '3,San Jose Civic Center,37.330698,-121.888979,15,San Jose,2013-08-05,',\n",
       " '4,Santa Clara at Almaden,37.333988,-121.894902,11,San Jose,2013-08-06,',\n",
       " '5,Adobe on Almaden,37.331415,-121.8932,19,San Jose,2013-08-05,',\n",
       " '6,San Pedro Square,37.336721,-121.894074,15,San Jose,2013-08-07,',\n",
       " '7,Paseo de San Antonio,37.333798,-121.886943,15,San Jose,2013-08-07,',\n",
       " '8,San Salvador at 1st,37.330165,-121.885831,15,San Jose,2013-08-05,',\n",
       " '9,Japantown,37.348742,-121.894715,15,San Jose,2013-08-05,',\n",
       " '10,San Jose City Hall,37.337391,-121.886995,15,San Jose,2013-08-06,',\n",
       " '11,MLK Library,37.335885,-121.88566,19,San Jose,2013-08-06,']"
      ]
     },
     "execution_count": 6,
     "metadata": {},
     "output_type": "execute_result"
    }
   ],
   "source": [
    "stations = sc.textFile(\"/mnt/data/stations.csv\")\n",
    "stations.take(10)"
   ]
  },
  {
   "cell_type": "markdown",
   "id": "d654d441",
   "metadata": {},
   "source": [
    "### Подготовка данных"
   ]
  },
  {
   "cell_type": "code",
   "execution_count": 7,
   "id": "6c9ea18e",
   "metadata": {},
   "outputs": [],
   "source": [
    "trips_data = trips.map(lambda x: x.split(','))\n",
    "stations_data = stations.map(lambda x: x.split(','))"
   ]
  },
  {
   "cell_type": "code",
   "execution_count": 8,
   "id": "1f46b948",
   "metadata": {},
   "outputs": [
    {
     "data": {
      "text/plain": [
       "[['4576',\n",
       "  '63',\n",
       "  '2013-08-29 14:13',\n",
       "  'South Van Ness at Market',\n",
       "  '66',\n",
       "  '2013-08-29 14:14',\n",
       "  'South Van Ness at Market',\n",
       "  '66',\n",
       "  '520',\n",
       "  'Subscriber',\n",
       "  '94127'],\n",
       " ['4607',\n",
       "  '70',\n",
       "  '2013-08-29 14:42',\n",
       "  'San Jose City Hall',\n",
       "  '10',\n",
       "  '2013-08-29 14:43',\n",
       "  'San Jose City Hall',\n",
       "  '10',\n",
       "  '661',\n",
       "  'Subscriber',\n",
       "  '95138'],\n",
       " ['4130',\n",
       "  '71',\n",
       "  '2013-08-29 10:16',\n",
       "  'Mountain View City Hall',\n",
       "  '27',\n",
       "  '2013-08-29 10:17',\n",
       "  'Mountain View City Hall',\n",
       "  '27',\n",
       "  '48',\n",
       "  'Subscriber',\n",
       "  '97214']]"
      ]
     },
     "execution_count": 8,
     "metadata": {},
     "output_type": "execute_result"
    }
   ],
   "source": [
    "trips_data.take(3)"
   ]
  },
  {
   "cell_type": "code",
   "execution_count": 9,
   "id": "9f665eed",
   "metadata": {},
   "outputs": [
    {
     "data": {
      "text/plain": [
       "[['2',\n",
       "  'San Jose Diridon Caltrain Station',\n",
       "  '37.329732',\n",
       "  '-121.901782',\n",
       "  '27',\n",
       "  'San Jose',\n",
       "  '2013-08-06',\n",
       "  ''],\n",
       " ['3',\n",
       "  'San Jose Civic Center',\n",
       "  '37.330698',\n",
       "  '-121.888979',\n",
       "  '15',\n",
       "  'San Jose',\n",
       "  '2013-08-05',\n",
       "  ''],\n",
       " ['4',\n",
       "  'Santa Clara at Almaden',\n",
       "  '37.333988',\n",
       "  '-121.894902',\n",
       "  '11',\n",
       "  'San Jose',\n",
       "  '2013-08-06',\n",
       "  '']]"
      ]
     },
     "execution_count": 9,
     "metadata": {},
     "output_type": "execute_result"
    }
   ],
   "source": [
    "stations_data.take(3)"
   ]
  },
  {
   "cell_type": "code",
   "execution_count": 10,
   "id": "14b87496",
   "metadata": {},
   "outputs": [],
   "source": [
    "from typing import NamedTuple\n",
    "from datetime import datetime"
   ]
  },
  {
   "cell_type": "code",
   "execution_count": 11,
   "id": "f694c74a",
   "metadata": {},
   "outputs": [],
   "source": [
    "class Station(NamedTuple):\n",
    "    station_id: int\n",
    "    name: str\n",
    "    lat: float\n",
    "    long: float\n",
    "    dockcount: int\n",
    "    landmark: str\n",
    "    installation: str\n",
    "    notes: str\n",
    "\n",
    "    def init(station):\n",
    "        return Station(\n",
    "            station_id = int(station[0]),\n",
    "            name = station[1],\n",
    "            lat = float(station[2]),\n",
    "            long = float(station[3]),\n",
    "            dockcount = int(station[4]),\n",
    "            landmark = station[5],\n",
    "            installation = station[6],\n",
    "            notes = station[7]\n",
    "        )"
   ]
  },
  {
   "cell_type": "code",
   "execution_count": 12,
   "id": "93cd1bcd",
   "metadata": {},
   "outputs": [],
   "source": [
    "class Trip(NamedTuple):\n",
    "    trip_id: int\n",
    "    duration: int\n",
    "    start_date: datetime\n",
    "    start_station: str\n",
    "    start_terminal: int\n",
    "    end_date: datetime\n",
    "    end_station: str\n",
    "    end_terminal: int\n",
    "    bike_id: int\n",
    "    subscription_type: str\n",
    "    zip_code: str\n",
    "        \n",
    "    def init(trip):\n",
    "        return Trip(                             \n",
    "             trip_id = int(trip[0]),\n",
    "             duration = int(trip[1]),\n",
    "             start_date = datetime.strptime(trip[2], '%Y-%m-%d %H:%M'),\n",
    "             start_station = trip[3],\n",
    "             start_terminal = int(trip[4]),\n",
    "             end_date = datetime.strptime(trip[5], '%Y-%m-%d %H:%M'),\n",
    "             end_station = trip[6],\n",
    "             end_terminal = trip[7],\n",
    "             bike_id = int(trip[8]),\n",
    "             subscription_type = trip[9],\n",
    "             zip_code = trip[10]\n",
    "        )"
   ]
  },
  {
   "cell_type": "code",
   "execution_count": 13,
   "id": "4e4f296f",
   "metadata": {},
   "outputs": [],
   "source": [
    "trips = trips_data.map(lambda row: Trip.init(row))"
   ]
  },
  {
   "cell_type": "code",
   "execution_count": 14,
   "id": "e5954301",
   "metadata": {
    "scrolled": true
   },
   "outputs": [
    {
     "data": {
      "text/plain": [
       "Trip(trip_id=4576, duration=63, start_date=datetime.datetime(2013, 8, 29, 14, 13), start_station='South Van Ness at Market', start_terminal=66, end_date=datetime.datetime(2013, 8, 29, 14, 14), end_station='South Van Ness at Market', end_terminal='66', bike_id=520, subscription_type='Subscriber', zip_code='94127')"
      ]
     },
     "execution_count": 14,
     "metadata": {},
     "output_type": "execute_result"
    }
   ],
   "source": [
    "trips.first()"
   ]
  },
  {
   "cell_type": "code",
   "execution_count": 15,
   "id": "11f667a2",
   "metadata": {},
   "outputs": [],
   "source": [
    "stations = stations_data.map(lambda row: Station.init(row))"
   ]
  },
  {
   "cell_type": "code",
   "execution_count": 16,
   "id": "4a5efa64",
   "metadata": {},
   "outputs": [
    {
     "data": {
      "text/plain": [
       "Station(station_id=2, name='San Jose Diridon Caltrain Station', lat=37.329732, long=-121.901782, dockcount=27, landmark='San Jose', installation='2013-08-06', notes='')"
      ]
     },
     "execution_count": 16,
     "metadata": {},
     "output_type": "execute_result"
    }
   ],
   "source": [
    "stations.first()"
   ]
  },
  {
   "cell_type": "markdown",
   "id": "3293074c",
   "metadata": {},
   "source": [
    "### Задание 1. Найти велосипед с максимальным пробегом."
   ]
  },
  {
   "cell_type": "markdown",
   "id": "3e14169c",
   "metadata": {},
   "source": [
    "#### Так как у велосипеда явно не указан пройденный путь, то в качестве пробега возьмём продолжительность (duration) пути"
   ]
  },
  {
   "cell_type": "code",
   "execution_count": 17,
   "id": "53c85fb6",
   "metadata": {},
   "outputs": [
    {
     "data": {
      "text/plain": [
       "(520,\n",
       " Trip(trip_id=4576, duration=63, start_date=datetime.datetime(2013, 8, 29, 14, 13), start_station='South Van Ness at Market', start_terminal=66, end_date=datetime.datetime(2013, 8, 29, 14, 14), end_station='South Van Ness at Market', end_terminal='66', bike_id=520, subscription_type='Subscriber', zip_code='94127'))"
      ]
     },
     "execution_count": 17,
     "metadata": {},
     "output_type": "execute_result"
    }
   ],
   "source": [
    "bike_and_trip = trips.keyBy(lambda trip: trip.bike_id)\n",
    "bike_and_trip.first()"
   ]
  },
  {
   "cell_type": "code",
   "execution_count": 18,
   "id": "8b1bb8fd",
   "metadata": {},
   "outputs": [
    {
     "data": {
      "text/plain": [
       "(520, 844850)"
      ]
     },
     "execution_count": 18,
     "metadata": {},
     "output_type": "execute_result"
    }
   ],
   "source": [
    "group_by_bike = bike_and_trip\\\n",
    "                .mapValues(lambda trip: trip.duration)\\\n",
    "                .reduceByKey(lambda duration1, duration2: duration1 + duration2)\n",
    "group_by_bike.first()"
   ]
  },
  {
   "cell_type": "code",
   "execution_count": 19,
   "id": "17eb56c0",
   "metadata": {},
   "outputs": [
    {
     "data": {
      "text/plain": [
       "(465, 1402501)"
      ]
     },
     "execution_count": 19,
     "metadata": {},
     "output_type": "execute_result"
    }
   ],
   "source": [
    "max_duration_of_bike = group_by_bike.reduce(lambda bike1, bike2: bike1 if bike1[1] > bike2[1] else bike2)\n",
    "max_duration_of_bike"
   ]
  },
  {
   "cell_type": "code",
   "execution_count": 20,
   "id": "14ea5e35",
   "metadata": {},
   "outputs": [
    {
     "name": "stdout",
     "output_type": "stream",
     "text": [
      "Bike with max duration is 465\n"
     ]
    }
   ],
   "source": [
    "bike_id_with_max_duration = max_duration_of_bike[0]\n",
    "print(f\"Bike with max duration is {bike_id_with_max_duration}\")"
   ]
  },
  {
   "cell_type": "markdown",
   "id": "b5fe09b6",
   "metadata": {},
   "source": [
    "### Задание 2. Найти наибольшее расстояние между станциями."
   ]
  },
  {
   "cell_type": "markdown",
   "id": "ed29efc4",
   "metadata": {},
   "source": [
    "#### Расстоянием между двумя станциями будем считать расстояние между координатами станций на земной поверхности. Таким образом, если найти соотнести каждую станцию с каждой (декартово произведение), то по полученным двум точкам можно найти расстояние воспользовавшись формулой."
   ]
  },
  {
   "cell_type": "code",
   "execution_count": 21,
   "id": "b1a57c8a",
   "metadata": {},
   "outputs": [
    {
     "data": {
      "text/plain": [
       "[(('San Jose Diridon Caltrain Station', 'San Jose Civic Center'),\n",
       "  (Station(station_id=2, name='San Jose Diridon Caltrain Station', lat=37.329732, long=-121.901782, dockcount=27, landmark='San Jose', installation='2013-08-06', notes=''),\n",
       "   Station(station_id=3, name='San Jose Civic Center', lat=37.330698, long=-121.888979, dockcount=15, landmark='San Jose', installation='2013-08-05', notes=''))),\n",
       " (('San Jose Diridon Caltrain Station', 'Santa Clara at Almaden'),\n",
       "  (Station(station_id=2, name='San Jose Diridon Caltrain Station', lat=37.329732, long=-121.901782, dockcount=27, landmark='San Jose', installation='2013-08-06', notes=''),\n",
       "   Station(station_id=4, name='Santa Clara at Almaden', lat=37.333988, long=-121.894902, dockcount=11, landmark='San Jose', installation='2013-08-06', notes=''))),\n",
       " (('San Jose Diridon Caltrain Station', 'Adobe on Almaden'),\n",
       "  (Station(station_id=2, name='San Jose Diridon Caltrain Station', lat=37.329732, long=-121.901782, dockcount=27, landmark='San Jose', installation='2013-08-06', notes=''),\n",
       "   Station(station_id=5, name='Adobe on Almaden', lat=37.331415, long=-121.8932, dockcount=19, landmark='San Jose', installation='2013-08-05', notes='')))]"
      ]
     },
     "execution_count": 21,
     "metadata": {},
     "output_type": "execute_result"
    }
   ],
   "source": [
    "vectors = stations.cartesian(stations)\\\n",
    "                .filter(lambda vector: vector[0].station_id != vector[1].station_id)\\\n",
    "                .keyBy(lambda vector: (vector[0].name, vector[1].name))\n",
    "vectors.take(3)               "
   ]
  },
  {
   "cell_type": "code",
   "execution_count": 22,
   "id": "e6703286",
   "metadata": {},
   "outputs": [
    {
     "name": "stdout",
     "output_type": "stream",
     "text": [
      "Requirement already satisfied: numpy in /usr/local/lib/python3.6/dist-packages (1.19.5)\n",
      "\u001b[33mWARNING: Running pip as the 'root' user can result in broken permissions and conflicting behaviour with the system package manager. It is recommended to use a virtual environment instead: https://pip.pypa.io/warnings/venv\u001b[0m\n"
     ]
    }
   ],
   "source": [
    "!pip install numpy"
   ]
  },
  {
   "cell_type": "code",
   "execution_count": 23,
   "id": "5b9fa83a",
   "metadata": {},
   "outputs": [],
   "source": [
    "import numpy as np"
   ]
  },
  {
   "cell_type": "markdown",
   "id": "9a215eab",
   "metadata": {},
   "source": [
    "Для вычисления расстояния между точками на поверхности земного шара можно использовать формулу, известную в сферической геометрии и геодезии:\n",
    "\n",
    "S = 111,2×arccos(sin φ1 × sin φ2 + cos φ1 × cos φ2 × cos (L2-L1)),\n",
    "\n",
    "где S - расстояние, км;\n",
    "\n",
    "φ1 и L1 - широта и долгота точки 1 (для северной широты и восточной долготы со знаком плюс, для южной широты и западной долготы со знаком минус), градусы;\n",
    "\n",
    "φ2 и L2 - широта и долгота точки 2, градусы;\n",
    "\n",
    "константа 111,2 - средняя длина дуги в один градус на поверхности Земли, км.\n",
    "\n",
    "source: http://mk.semico.ru/dr_info19.htm"
   ]
  },
  {
   "cell_type": "code",
   "execution_count": 24,
   "id": "0b3d6a49",
   "metadata": {},
   "outputs": [],
   "source": [
    "def geometry_lenght(phi1, L1, phi2, L2):\n",
    "    return 111.2 * np.arccos(np.sin(phi1) * np.sin(phi2) + np.cos(phi1)*np.cos(phi2)*np.cos(L2-L1))"
   ]
  },
  {
   "cell_type": "code",
   "execution_count": 25,
   "id": "6dffe28b",
   "metadata": {},
   "outputs": [
    {
     "data": {
      "text/plain": [
       "[(('San Jose Diridon Caltrain Station', 'San Jose Civic Center'),\n",
       "  1.3322520062755303),\n",
       " (('San Jose Diridon Caltrain Station', 'Santa Clara at Almaden'),\n",
       "  0.8566410691824484),\n",
       " (('San Jose Diridon Caltrain Station', 'Adobe on Almaden'),\n",
       "  0.9096990716666701),\n",
       " (('San Jose Diridon Caltrain Station', 'San Pedro Square'),\n",
       "  1.1156299005714054),\n",
       " (('San Jose Diridon Caltrain Station', 'Paseo de San Antonio'),\n",
       "  1.60500605931874)]"
      ]
     },
     "execution_count": 25,
     "metadata": {},
     "output_type": "execute_result"
    }
   ],
   "source": [
    "square_lenghts = vectors\\\n",
    "            .mapValues(lambda vector: geometry_lenght(vector[0].lat, vector[0].long, vector[1].lat, vector[1].long))\n",
    "square_lenghts.take(5)"
   ]
  },
  {
   "cell_type": "code",
   "execution_count": 26,
   "id": "0028f64d",
   "metadata": {},
   "outputs": [
    {
     "data": {
      "text/plain": [
       "(('Embarcadero at Sansome', 'SJSU - San Salvador at 9th'), 77.69328061354797)"
      ]
     },
     "execution_count": 26,
     "metadata": {},
     "output_type": "execute_result"
    }
   ],
   "source": [
    "max_square_lenght = square_lenghts.reduce(lambda len1, len2: len1 if len1[1] > len2[1] else len2)\n",
    "max_square_lenght"
   ]
  },
  {
   "cell_type": "code",
   "execution_count": 27,
   "id": "70a36b72",
   "metadata": {},
   "outputs": [
    {
     "name": "stdout",
     "output_type": "stream",
     "text": [
      "Max distance between stations is 77.69328061354797 km\n"
     ]
    }
   ],
   "source": [
    "print(f\"Max distance between stations is {max_square_lenght[1]} km\")"
   ]
  },
  {
   "cell_type": "markdown",
   "id": "d051a172",
   "metadata": {},
   "source": [
    "### Задание 3. Найти путь велосипеда с максимальным пробегом через станции."
   ]
  },
  {
   "cell_type": "markdown",
   "id": "6bb9506c",
   "metadata": {},
   "source": [
    "#### Так как id велосипеда с максимальным пробегом уже известен из задания 1, то можно взять данные по этому велосипеду и восстановить хронологию его поездок."
   ]
  },
  {
   "cell_type": "code",
   "execution_count": 28,
   "id": "68eed36c",
   "metadata": {},
   "outputs": [],
   "source": [
    "bike_path = trips.filter(lambda trip: trip.bike_id == bike_id_with_max_duration)\\\n",
    "        .sortBy(lambda trip: trip.start_date)\\\n",
    "        .map(lambda trip: (trip.start_station, trip.end_station))"
   ]
  },
  {
   "cell_type": "code",
   "execution_count": 29,
   "id": "1b77f80d",
   "metadata": {},
   "outputs": [
    {
     "data": {
      "text/plain": [
       "[('Market at 10th', 'Market at 4th'),\n",
       " ('Market at 4th', 'Harry Bridges Plaza (Ferry Building)'),\n",
       " ('Harry Bridges Plaza (Ferry Building)', 'Howard at 2nd'),\n",
       " ('Howard at 2nd', 'Townsend at 7th'),\n",
       " ('Townsend at 7th', 'Steuart at Market'),\n",
       " ('Steuart at Market', '2nd at Townsend'),\n",
       " ('2nd at Townsend', 'Clay at Battery'),\n",
       " ('Clay at Battery', '2nd at Townsend'),\n",
       " ('2nd at Townsend', 'South Van Ness at Market'),\n",
       " ('South Van Ness at Market', 'Powell Street BART'),\n",
       " ('Powell Street BART', 'South Van Ness at Market'),\n",
       " ('South Van Ness at Market', 'Powell at Post (Union Square)'),\n",
       " ('Powell at Post (Union Square)', 'San Francisco Caltrain (Townsend at 4th)'),\n",
       " ('San Francisco Caltrain (Townsend at 4th)', 'Post at Kearney'),\n",
       " ('Post at Kearney', 'Embarcadero at Sansome'),\n",
       " ('Embarcadero at Sansome', '2nd at Townsend'),\n",
       " ('2nd at Townsend', 'Market at Sansome'),\n",
       " ('Market at Sansome', 'South Van Ness at Market'),\n",
       " ('South Van Ness at Market', 'Civic Center BART (7th at Market)'),\n",
       " ('Civic Center BART (7th at Market)', 'Townsend at 7th'),\n",
       " ('Townsend at 7th', 'Powell Street BART'),\n",
       " ('Powell Street BART', 'South Van Ness at Market'),\n",
       " ('South Van Ness at Market', 'Market at 4th'),\n",
       " ('Market at 4th', 'Washington at Kearney'),\n",
       " ('Mechanics Plaza (Market at Battery)', 'Steuart at Market'),\n",
       " ('Steuart at Market', 'Embarcadero at Sansome'),\n",
       " ('Embarcadero at Sansome', 'Embarcadero at Sansome'),\n",
       " ('Grant Avenue at Columbus Avenue', 'Embarcadero at Folsom'),\n",
       " ('Embarcadero at Folsom', 'San Francisco Caltrain (Townsend at 4th)'),\n",
       " ('San Francisco Caltrain (Townsend at 4th)', 'Townsend at 7th'),\n",
       " ('Townsend at 7th', 'Townsend at 7th'),\n",
       " ('Townsend at 7th', 'Harry Bridges Plaza (Ferry Building)'),\n",
       " ('Harry Bridges Plaza (Ferry Building)', 'Market at Sansome'),\n",
       " ('Market at Sansome', 'South Van Ness at Market'),\n",
       " ('South Van Ness at Market', 'Market at Sansome'),\n",
       " ('Market at Sansome', 'Harry Bridges Plaza (Ferry Building)'),\n",
       " ('Harry Bridges Plaza (Ferry Building)', 'South Van Ness at Market'),\n",
       " ('South Van Ness at Market', 'San Francisco Caltrain (Townsend at 4th)'),\n",
       " ('San Francisco Caltrain (Townsend at 4th)',\n",
       "  'Yerba Buena Center of the Arts (3rd @ Howard)'),\n",
       " ('Yerba Buena Center of the Arts (3rd @ Howard)',\n",
       "  'San Francisco Caltrain 2 (330 Townsend)'),\n",
       " ('Embarcadero at Sansome', 'Yerba Buena Center of the Arts (3rd @ Howard)'),\n",
       " ('Grant Avenue at Columbus Avenue', '5th at Howard'),\n",
       " ('5th at Howard', 'Grant Avenue at Columbus Avenue'),\n",
       " ('Grant Avenue at Columbus Avenue', 'Civic Center BART (7th at Market)'),\n",
       " ('Civic Center BART (7th at Market)', 'Townsend at 7th'),\n",
       " ('Townsend at 7th', '2nd at Townsend'),\n",
       " ('2nd at Townsend', 'Market at 4th'),\n",
       " ('Market at 4th', 'Civic Center BART (7th at Market)'),\n",
       " ('Civic Center BART (7th at Market)', '2nd at South Park'),\n",
       " ('2nd at South Park', 'Grant Avenue at Columbus Avenue'),\n",
       " ('Grant Avenue at Columbus Avenue', 'Powell Street BART'),\n",
       " ('Powell Street BART', 'Embarcadero at Vallejo'),\n",
       " ('Embarcadero at Vallejo', 'Market at 4th'),\n",
       " ('Market at 4th', 'Post at Kearney'),\n",
       " ('Post at Kearney', 'Civic Center BART (7th at Market)'),\n",
       " ('Civic Center BART (7th at Market)',\n",
       "  'San Francisco Caltrain 2 (330 Townsend)'),\n",
       " ('San Francisco Caltrain 2 (330 Townsend)', 'Powell Street BART'),\n",
       " ('Powell Street BART', 'Post at Kearney'),\n",
       " ('Post at Kearney', 'Steuart at Market'),\n",
       " ('Steuart at Market', 'Washington at Kearney'),\n",
       " ('2nd at Folsom', 'Market at Sansome'),\n",
       " ('Market at Sansome', 'Embarcadero at Sansome'),\n",
       " ('Embarcadero at Sansome', 'Embarcadero at Vallejo'),\n",
       " ('Embarcadero at Vallejo', 'Beale at Market'),\n",
       " ('Beale at Market', 'Embarcadero at Vallejo'),\n",
       " ('Grant Avenue at Columbus Avenue',\n",
       "  'San Francisco Caltrain 2 (330 Townsend)'),\n",
       " ('San Francisco Caltrain 2 (330 Townsend)', '2nd at South Park'),\n",
       " ('2nd at South Park', 'Embarcadero at Vallejo'),\n",
       " ('Harry Bridges Plaza (Ferry Building)', 'Market at Sansome'),\n",
       " ('Market at Sansome', 'Yerba Buena Center of the Arts (3rd @ Howard)'),\n",
       " ('San Francisco City Hall', 'Post at Kearney'),\n",
       " ('Post at Kearney', 'Golden Gate at Polk'),\n",
       " ('Golden Gate at Polk', 'Townsend at 7th'),\n",
       " ('Townsend at 7th', 'San Francisco Caltrain (Townsend at 4th)'),\n",
       " ('San Francisco Caltrain (Townsend at 4th)', '5th at Howard'),\n",
       " ('5th at Howard', 'Grant Avenue at Columbus Avenue'),\n",
       " ('Grant Avenue at Columbus Avenue', 'Mechanics Plaza (Market at Battery)'),\n",
       " ('Mechanics Plaza (Market at Battery)',\n",
       "  'San Francisco Caltrain 2 (330 Townsend)'),\n",
       " ('San Francisco Caltrain 2 (330 Townsend)',\n",
       "  'Mechanics Plaza (Market at Battery)'),\n",
       " ('Mechanics Plaza (Market at Battery)', 'Market at 10th'),\n",
       " ('Market at 10th', 'Civic Center BART (7th at Market)'),\n",
       " ('Civic Center BART (7th at Market)', 'South Van Ness at Market'),\n",
       " ('South Van Ness at Market', 'Civic Center BART (7th at Market)'),\n",
       " ('Civic Center BART (7th at Market)', 'South Van Ness at Market'),\n",
       " ('South Van Ness at Market', 'Civic Center BART (7th at Market)'),\n",
       " ('Civic Center BART (7th at Market)', 'Market at 10th'),\n",
       " ('Market at 10th', 'Market at 10th'),\n",
       " ('Market at 10th', 'Civic Center BART (7th at Market)'),\n",
       " ('Civic Center BART (7th at Market)', 'Washington at Kearney'),\n",
       " ('Washington at Kearney', 'Mechanics Plaza (Market at Battery)'),\n",
       " ('Mechanics Plaza (Market at Battery)', 'Spear at Folsom'),\n",
       " ('Spear at Folsom', 'Embarcadero at Vallejo'),\n",
       " ('Embarcadero at Vallejo', 'Temporary Transbay Terminal (Howard at Beale)'),\n",
       " ('Temporary Transbay Terminal (Howard at Beale)', 'Embarcadero at Vallejo'),\n",
       " ('Embarcadero at Vallejo', 'Embarcadero at Sansome'),\n",
       " ('Embarcadero at Sansome', 'Harry Bridges Plaza (Ferry Building)'),\n",
       " ('Harry Bridges Plaza (Ferry Building)', 'Embarcadero at Sansome'),\n",
       " ('Commercial at Montgomery', 'Temporary Transbay Terminal (Howard at Beale)'),\n",
       " ('Temporary Transbay Terminal (Howard at Beale)', 'Howard at 2nd'),\n",
       " ('Howard at 2nd', 'Steuart at Market'),\n",
       " ('Steuart at Market', 'Steuart at Market'),\n",
       " ('Market at 4th', 'Market at 4th'),\n",
       " ('Market at 4th', 'Powell at Post (Union Square)'),\n",
       " ('Powell at Post (Union Square)', 'San Francisco Caltrain (Townsend at 4th)'),\n",
       " ('San Francisco Caltrain (Townsend at 4th)', 'Beale at Market'),\n",
       " ('2nd at Townsend', 'South Van Ness at Market'),\n",
       " ('South Van Ness at Market', '2nd at Townsend'),\n",
       " ('2nd at Townsend', 'San Francisco Caltrain (Townsend at 4th)'),\n",
       " ('San Francisco Caltrain (Townsend at 4th)', '2nd at South Park'),\n",
       " ('2nd at South Park', 'Post at Kearney'),\n",
       " ('Post at Kearney', '2nd at South Park'),\n",
       " ('2nd at South Park', 'Market at Sansome'),\n",
       " ('Market at Sansome', 'Powell Street BART'),\n",
       " ('Powell Street BART', 'San Francisco Caltrain 2 (330 Townsend)'),\n",
       " ('2nd at Folsom', 'San Francisco Caltrain (Townsend at 4th)'),\n",
       " ('Commercial at Montgomery', 'Powell at Post (Union Square)'),\n",
       " ('Powell at Post (Union Square)', 'Powell at Post (Union Square)'),\n",
       " ('Powell at Post (Union Square)', 'Powell at Post (Union Square)'),\n",
       " ('Powell at Post (Union Square)', 'Davis at Jackson'),\n",
       " ('Davis at Jackson', 'Powell Street BART'),\n",
       " ('Powell Street BART', 'Harry Bridges Plaza (Ferry Building)'),\n",
       " ('Harry Bridges Plaza (Ferry Building)', 'Powell at Post (Union Square)'),\n",
       " ('Powell at Post (Union Square)', 'Davis at Jackson'),\n",
       " ('Davis at Jackson', 'Yerba Buena Center of the Arts (3rd @ Howard)'),\n",
       " ('Yerba Buena Center of the Arts (3rd @ Howard)',\n",
       "  'Powell at Post (Union Square)'),\n",
       " ('Powell at Post (Union Square)', 'Post at Kearney'),\n",
       " ('Embarcadero at Sansome', 'Howard at 2nd'),\n",
       " ('Howard at 2nd', 'Market at Sansome'),\n",
       " ('Market at Sansome', 'Clay at Battery'),\n",
       " ('Clay at Battery', 'Market at 4th'),\n",
       " ('Market at 4th', 'Embarcadero at Sansome'),\n",
       " ('Spear at Folsom', 'Spear at Folsom'),\n",
       " ('Spear at Folsom', 'Commercial at Montgomery'),\n",
       " ('Commercial at Montgomery', 'Spear at Folsom'),\n",
       " ('Spear at Folsom', 'San Francisco Caltrain (Townsend at 4th)'),\n",
       " ('San Francisco Caltrain (Townsend at 4th)',\n",
       "  'Harry Bridges Plaza (Ferry Building)'),\n",
       " ('Harry Bridges Plaza (Ferry Building)', 'Townsend at 7th'),\n",
       " ('Townsend at 7th', 'Harry Bridges Plaza (Ferry Building)'),\n",
       " ('Harry Bridges Plaza (Ferry Building)', 'Powell Street BART'),\n",
       " ('Powell Street BART', 'Steuart at Market'),\n",
       " ('Steuart at Market', 'Post at Kearney'),\n",
       " ('Post at Kearney', 'Washington at Kearney'),\n",
       " ('Washington at Kearney', 'Steuart at Market'),\n",
       " ('Steuart at Market', 'Howard at 2nd'),\n",
       " ('Howard at 2nd', 'Spear at Folsom'),\n",
       " ('Spear at Folsom', 'Harry Bridges Plaza (Ferry Building)'),\n",
       " ('Harry Bridges Plaza (Ferry Building)', 'Market at 4th'),\n",
       " ('Market at 4th', 'Spear at Folsom'),\n",
       " ('Spear at Folsom', 'Townsend at 7th'),\n",
       " ('Townsend at 7th', 'Civic Center BART (7th at Market)'),\n",
       " ('Civic Center BART (7th at Market)', '5th at Howard'),\n",
       " ('5th at Howard', 'Powell Street BART'),\n",
       " ('Powell Street BART', 'San Francisco City Hall'),\n",
       " ('San Francisco City Hall', 'Powell Street BART'),\n",
       " ('Powell Street BART', 'Temporary Transbay Terminal (Howard at Beale)'),\n",
       " ('Temporary Transbay Terminal (Howard at Beale)',\n",
       "  'San Francisco Caltrain (Townsend at 4th)'),\n",
       " ('2nd at Townsend', 'Spear at Folsom'),\n",
       " ('Spear at Folsom', 'Beale at Market'),\n",
       " ('Beale at Market', 'Commercial at Montgomery'),\n",
       " ('Commercial at Montgomery', '2nd at South Park'),\n",
       " ('2nd at South Park', 'Commercial at Montgomery'),\n",
       " ('Commercial at Montgomery', 'Davis at Jackson'),\n",
       " ('Davis at Jackson', 'Spear at Folsom'),\n",
       " ('Spear at Folsom', 'Harry Bridges Plaza (Ferry Building)'),\n",
       " ('Harry Bridges Plaza (Ferry Building)', 'Beale at Market'),\n",
       " ('Beale at Market', 'Embarcadero at Sansome'),\n",
       " ('Embarcadero at Sansome', 'Market at 4th'),\n",
       " ('Market at 4th', 'Temporary Transbay Terminal (Howard at Beale)'),\n",
       " ('Temporary Transbay Terminal (Howard at Beale)', 'Embarcadero at Sansome'),\n",
       " ('San Francisco Caltrain (Townsend at 4th)', '2nd at Folsom'),\n",
       " ('Market at 4th', 'Golden Gate at Polk'),\n",
       " ('Townsend at 7th', 'San Francisco Caltrain (Townsend at 4th)'),\n",
       " ('Clay at Battery', 'San Francisco Caltrain (Townsend at 4th)'),\n",
       " ('San Francisco Caltrain (Townsend at 4th)', 'Davis at Jackson'),\n",
       " ('Davis at Jackson', 'Post at Kearney'),\n",
       " ('Post at Kearney', 'Commercial at Montgomery'),\n",
       " ('Commercial at Montgomery', 'Post at Kearney'),\n",
       " ('Post at Kearney', 'Washington at Kearney'),\n",
       " ('Washington at Kearney', 'Powell Street BART'),\n",
       " ('Powell Street BART', 'South Van Ness at Market'),\n",
       " ('South Van Ness at Market', 'San Francisco Caltrain (Townsend at 4th)'),\n",
       " ('San Francisco Caltrain (Townsend at 4th)',\n",
       "  'Temporary Transbay Terminal (Howard at Beale)'),\n",
       " ('Temporary Transbay Terminal (Howard at Beale)', 'Market at 10th'),\n",
       " ('Market at 10th', 'San Francisco Caltrain (Townsend at 4th)'),\n",
       " ('San Francisco Caltrain (Townsend at 4th)',\n",
       "  'Yerba Buena Center of the Arts (3rd @ Howard)'),\n",
       " ('Yerba Buena Center of the Arts (3rd @ Howard)', '2nd at South Park'),\n",
       " ('2nd at South Park', 'Howard at 2nd'),\n",
       " ('Howard at 2nd', 'Grant Avenue at Columbus Avenue'),\n",
       " ('Commercial at Montgomery', 'Mechanics Plaza (Market at Battery)'),\n",
       " ('Mechanics Plaza (Market at Battery)', '5th at Howard'),\n",
       " ('San Francisco Caltrain 2 (330 Townsend)', 'Steuart at Market'),\n",
       " ('Steuart at Market', '2nd at Townsend'),\n",
       " ('2nd at Townsend', 'San Francisco Caltrain (Townsend at 4th)'),\n",
       " ('San Francisco Caltrain (Townsend at 4th)', 'Commercial at Montgomery'),\n",
       " ('Market at 10th', 'San Francisco Caltrain 2 (330 Townsend)'),\n",
       " ('San Francisco Caltrain 2 (330 Townsend)', 'Powell at Post (Union Square)'),\n",
       " ('Powell at Post (Union Square)', 'Steuart at Market'),\n",
       " ('Harry Bridges Plaza (Ferry Building)', 'Townsend at 7th'),\n",
       " ('Grant Avenue at Columbus Avenue', 'Washington at Kearney'),\n",
       " ('Embarcadero at Sansome', 'South Van Ness at Market'),\n",
       " ('South Van Ness at Market', 'Embarcadero at Sansome'),\n",
       " ('Embarcadero at Sansome', 'Beale at Market'),\n",
       " ('Beale at Market', 'Spear at Folsom'),\n",
       " ('Spear at Folsom', 'Steuart at Market'),\n",
       " ('Steuart at Market', 'Powell at Post (Union Square)'),\n",
       " ('Powell at Post (Union Square)', 'Howard at 2nd'),\n",
       " ('Howard at 2nd', 'Civic Center BART (7th at Market)'),\n",
       " ('San Francisco Caltrain (Townsend at 4th)', 'Townsend at 7th'),\n",
       " ('Townsend at 7th', 'San Francisco Caltrain (Townsend at 4th)'),\n",
       " ('San Francisco Caltrain (Townsend at 4th)', 'Townsend at 7th'),\n",
       " ('Civic Center BART (7th at Market)', 'Embarcadero at Sansome'),\n",
       " ('Embarcadero at Sansome', 'Golden Gate at Polk'),\n",
       " ('Golden Gate at Polk', 'Embarcadero at Vallejo'),\n",
       " ('Embarcadero at Vallejo', 'Embarcadero at Sansome'),\n",
       " ('Embarcadero at Sansome', 'Beale at Market'),\n",
       " ('Temporary Transbay Terminal (Howard at Beale)', '5th at Howard'),\n",
       " ('Temporary Transbay Terminal (Howard at Beale)', '5th at Howard'),\n",
       " ('5th at Howard', 'San Francisco City Hall'),\n",
       " ('San Francisco City Hall', 'Civic Center BART (7th at Market)'),\n",
       " ('Civic Center BART (7th at Market)', 'South Van Ness at Market'),\n",
       " ('San Francisco Caltrain (Townsend at 4th)', 'Townsend at 7th'),\n",
       " ('Townsend at 7th', 'Market at 4th'),\n",
       " ('Market at 4th', 'Spear at Folsom'),\n",
       " ('2nd at South Park', 'Golden Gate at Polk'),\n",
       " ('San Francisco Caltrain (Townsend at 4th)', 'Market at 4th'),\n",
       " ('Market at 4th', 'Beale at Market'),\n",
       " ('Beale at Market', 'Beale at Market'),\n",
       " ('Beale at Market', 'San Francisco Caltrain (Townsend at 4th)'),\n",
       " ('Market at 4th', 'Embarcadero at Vallejo'),\n",
       " ('Embarcadero at Vallejo', 'South Van Ness at Market'),\n",
       " ('South Van Ness at Market', 'Powell Street BART'),\n",
       " ('Powell Street BART', 'San Francisco City Hall'),\n",
       " ('San Francisco City Hall', 'South Van Ness at Market'),\n",
       " ('South Van Ness at Market', 'Temporary Transbay Terminal (Howard at Beale)'),\n",
       " ('Temporary Transbay Terminal (Howard at Beale)',\n",
       "  'Yerba Buena Center of the Arts (3rd @ Howard)'),\n",
       " ('Yerba Buena Center of the Arts (3rd @ Howard)', '2nd at Townsend'),\n",
       " ('2nd at Townsend', '2nd at South Park'),\n",
       " ('2nd at South Park', 'Harry Bridges Plaza (Ferry Building)'),\n",
       " ('Temporary Transbay Terminal (Howard at Beale)', '2nd at Townsend'),\n",
       " ('2nd at Townsend', 'Howard at 2nd'),\n",
       " ('Howard at 2nd', 'Post at Kearney'),\n",
       " ('Post at Kearney', 'Harry Bridges Plaza (Ferry Building)'),\n",
       " ('Harry Bridges Plaza (Ferry Building)', 'Embarcadero at Bryant'),\n",
       " ('Embarcadero at Bryant', 'San Francisco Caltrain (Townsend at 4th)'),\n",
       " ('San Francisco Caltrain (Townsend at 4th)', 'Commercial at Montgomery'),\n",
       " ('Commercial at Montgomery', 'Harry Bridges Plaza (Ferry Building)'),\n",
       " ('Harry Bridges Plaza (Ferry Building)', 'Grant Avenue at Columbus Avenue'),\n",
       " ('Grant Avenue at Columbus Avenue',\n",
       "  'San Francisco Caltrain 2 (330 Townsend)'),\n",
       " ('San Francisco Caltrain 2 (330 Townsend)',\n",
       "  'Civic Center BART (7th at Market)'),\n",
       " ('Civic Center BART (7th at Market)',\n",
       "  'San Francisco Caltrain 2 (330 Townsend)'),\n",
       " ('San Francisco Caltrain 2 (330 Townsend)', '2nd at South Park'),\n",
       " ('2nd at South Park', 'San Francisco Caltrain 2 (330 Townsend)'),\n",
       " ('San Francisco Caltrain 2 (330 Townsend)', 'Townsend at 7th'),\n",
       " ('Townsend at 7th', 'San Francisco Caltrain (Townsend at 4th)'),\n",
       " ('San Francisco Caltrain (Townsend at 4th)',\n",
       "  'Temporary Transbay Terminal (Howard at Beale)'),\n",
       " ('Temporary Transbay Terminal (Howard at Beale)', '5th at Howard'),\n",
       " ('5th at Howard', 'San Francisco Caltrain (Townsend at 4th)'),\n",
       " ('Beale at Market', 'Civic Center BART (7th at Market)'),\n",
       " ('Civic Center BART (7th at Market)', 'Townsend at 7th'),\n",
       " ('Townsend at 7th', 'San Francisco Caltrain (Townsend at 4th)'),\n",
       " ('San Francisco Caltrain (Townsend at 4th)', '2nd at Folsom'),\n",
       " ('2nd at Folsom', 'Townsend at 7th'),\n",
       " ('Civic Center BART (7th at Market)', 'Civic Center BART (7th at Market)'),\n",
       " ('Civic Center BART (7th at Market)',\n",
       "  'San Francisco Caltrain (Townsend at 4th)'),\n",
       " ('San Francisco Caltrain (Townsend at 4th)', 'Embarcadero at Folsom'),\n",
       " ('Townsend at 7th', 'San Francisco Caltrain (Townsend at 4th)'),\n",
       " ('Grant Avenue at Columbus Avenue',\n",
       "  'Yerba Buena Center of the Arts (3rd @ Howard)'),\n",
       " ('Yerba Buena Center of the Arts (3rd @ Howard)',\n",
       "  'San Francisco Caltrain (Townsend at 4th)'),\n",
       " ('San Francisco Caltrain (Townsend at 4th)', '2nd at South Park'),\n",
       " ('2nd at South Park', 'San Francisco Caltrain (Townsend at 4th)'),\n",
       " ('San Francisco Caltrain (Townsend at 4th)', 'Beale at Market'),\n",
       " ('Beale at Market', 'San Francisco Caltrain (Townsend at 4th)'),\n",
       " ('Market at 4th', '2nd at Folsom'),\n",
       " ('2nd at Folsom', 'Temporary Transbay Terminal (Howard at Beale)'),\n",
       " ('Temporary Transbay Terminal (Howard at Beale)',\n",
       "  'San Francisco Caltrain (Townsend at 4th)'),\n",
       " ('2nd at South Park', 'Washington at Kearney'),\n",
       " ('Grant Avenue at Columbus Avenue', 'Market at Sansome'),\n",
       " ('Market at Sansome', '2nd at South Park'),\n",
       " ('Steuart at Market', '2nd at South Park'),\n",
       " ('2nd at South Park', 'Spear at Folsom'),\n",
       " ('Spear at Folsom', 'San Francisco Caltrain 2 (330 Townsend)'),\n",
       " ('Beale at Market', 'Harry Bridges Plaza (Ferry Building)'),\n",
       " ('Harry Bridges Plaza (Ferry Building)', 'Powell at Post (Union Square)'),\n",
       " ('Market at 10th', 'Townsend at 7th'),\n",
       " ('Townsend at 7th', 'San Francisco Caltrain (Townsend at 4th)'),\n",
       " ('Commercial at Montgomery', 'Civic Center BART (7th at Market)'),\n",
       " ('Civic Center BART (7th at Market)', '5th at Howard'),\n",
       " ('Beale at Market', 'San Francisco Caltrain 2 (330 Townsend)'),\n",
       " ('San Francisco Caltrain 2 (330 Townsend)', '5th at Howard'),\n",
       " ('Golden Gate at Polk', 'Embarcadero at Vallejo'),\n",
       " ('Embarcadero at Vallejo', 'Steuart at Market'),\n",
       " ('Steuart at Market', 'San Francisco Caltrain 2 (330 Townsend)'),\n",
       " ('San Francisco Caltrain 2 (330 Townsend)', 'Powell Street BART'),\n",
       " ('Powell Street BART', 'Grant Avenue at Columbus Avenue'),\n",
       " ('Grant Avenue at Columbus Avenue', '2nd at Folsom'),\n",
       " ('2nd at Folsom', 'San Francisco Caltrain (Townsend at 4th)'),\n",
       " ('San Francisco Caltrain (Townsend at 4th)', '2nd at Folsom'),\n",
       " ('2nd at Folsom', 'Post at Kearney'),\n",
       " ('Post at Kearney', 'Washington at Kearney'),\n",
       " ('Grant Avenue at Columbus Avenue', 'Mechanics Plaza (Market at Battery)'),\n",
       " ('Mechanics Plaza (Market at Battery)', 'Powell Street BART'),\n",
       " ('Powell Street BART', 'South Van Ness at Market'),\n",
       " ('Powell at Post (Union Square)', 'San Francisco Caltrain (Townsend at 4th)'),\n",
       " ('San Francisco Caltrain (Townsend at 4th)', 'Beale at Market'),\n",
       " ('Beale at Market', 'San Francisco Caltrain (Townsend at 4th)'),\n",
       " ('San Francisco Caltrain (Townsend at 4th)', 'Powell Street BART'),\n",
       " ('Powell Street BART', 'Temporary Transbay Terminal (Howard at Beale)'),\n",
       " ('Temporary Transbay Terminal (Howard at Beale)', '2nd at Townsend'),\n",
       " ('2nd at Townsend', 'Harry Bridges Plaza (Ferry Building)'),\n",
       " ('Harry Bridges Plaza (Ferry Building)', 'Embarcadero at Sansome'),\n",
       " ('Commercial at Montgomery', 'Powell Street BART'),\n",
       " ('Powell Street BART', 'Harry Bridges Plaza (Ferry Building)'),\n",
       " ('Harry Bridges Plaza (Ferry Building)', 'Embarcadero at Bryant'),\n",
       " ('Embarcadero at Bryant', 'Beale at Market'),\n",
       " ('Beale at Market', 'San Francisco Caltrain (Townsend at 4th)'),\n",
       " ('Market at 10th', 'Washington at Kearney'),\n",
       " ('Washington at Kearney', 'Powell Street BART'),\n",
       " ('2nd at Folsom', 'Market at 4th'),\n",
       " ('Market at 4th', 'Davis at Jackson'),\n",
       " ('Davis at Jackson', 'Howard at 2nd'),\n",
       " ('Howard at 2nd', 'Steuart at Market'),\n",
       " ('Steuart at Market', 'Howard at 2nd'),\n",
       " ('Howard at 2nd', '2nd at Townsend'),\n",
       " ('2nd at Townsend', 'Beale at Market'),\n",
       " ('San Francisco Caltrain (Townsend at 4th)',\n",
       "  'Temporary Transbay Terminal (Howard at Beale)'),\n",
       " ('Temporary Transbay Terminal (Howard at Beale)', '2nd at South Park'),\n",
       " ('2nd at South Park', 'Temporary Transbay Terminal (Howard at Beale)'),\n",
       " ('Temporary Transbay Terminal (Howard at Beale)',\n",
       "  'Civic Center BART (7th at Market)'),\n",
       " ('Civic Center BART (7th at Market)', 'Post at Kearney'),\n",
       " ('Post at Kearney', 'Grant Avenue at Columbus Avenue'),\n",
       " ('Grant Avenue at Columbus Avenue', 'Civic Center BART (7th at Market)'),\n",
       " ('Civic Center BART (7th at Market)', 'Civic Center BART (7th at Market)'),\n",
       " ('Civic Center BART (7th at Market)', 'Clay at Battery'),\n",
       " ('Temporary Transbay Terminal (Howard at Beale)', '2nd at Townsend'),\n",
       " ('2nd at Townsend', 'Post at Kearney'),\n",
       " ('Post at Kearney', '2nd at Townsend'),\n",
       " ('2nd at Townsend', 'San Francisco Caltrain (Townsend at 4th)'),\n",
       " ('Embarcadero at Vallejo', 'Beale at Market'),\n",
       " ('Beale at Market', 'Embarcadero at Sansome'),\n",
       " ('Embarcadero at Sansome', 'Steuart at Market'),\n",
       " ('Steuart at Market', 'San Francisco Caltrain (Townsend at 4th)'),\n",
       " ('San Francisco Caltrain (Townsend at 4th)', 'Embarcadero at Folsom'),\n",
       " ('Embarcadero at Folsom', 'Embarcadero at Sansome'),\n",
       " ('Embarcadero at Sansome', 'Embarcadero at Sansome'),\n",
       " ('Embarcadero at Bryant', 'Embarcadero at Sansome'),\n",
       " ('Embarcadero at Sansome', 'San Francisco Caltrain (Townsend at 4th)'),\n",
       " ('San Francisco Caltrain (Townsend at 4th)', 'Embarcadero at Folsom'),\n",
       " ('Golden Gate at Polk', 'Golden Gate at Polk'),\n",
       " ('Golden Gate at Polk', 'Steuart at Market'),\n",
       " ('Steuart at Market', 'Steuart at Market'),\n",
       " ('Steuart at Market', 'Market at 4th'),\n",
       " ('Market at 4th', 'South Van Ness at Market'),\n",
       " ('South Van Ness at Market', 'Commercial at Montgomery'),\n",
       " ('Commercial at Montgomery', 'Powell Street BART'),\n",
       " ('Powell Street BART', 'Market at Sansome'),\n",
       " ('Market at Sansome', '2nd at Folsom'),\n",
       " ('2nd at Folsom', 'Beale at Market'),\n",
       " ('Beale at Market', '2nd at Folsom'),\n",
       " ('2nd at Folsom', 'Beale at Market'),\n",
       " ('Beale at Market', 'San Francisco Caltrain (Townsend at 4th)'),\n",
       " ('2nd at Folsom', 'San Francisco Caltrain (Townsend at 4th)'),\n",
       " ('San Francisco Caltrain (Townsend at 4th)', 'Howard at 2nd'),\n",
       " ('Howard at 2nd', 'Market at Sansome'),\n",
       " ('Market at Sansome', '2nd at Townsend'),\n",
       " ('2nd at Townsend', 'Harry Bridges Plaza (Ferry Building)'),\n",
       " ('Post at Kearny', 'Post at Kearny'),\n",
       " ('Post at Kearny', '2nd at Townsend'),\n",
       " ('Clay at Battery', 'Market at 4th'),\n",
       " ('Market at 4th', 'Clay at Battery'),\n",
       " ('San Francisco Caltrain 2 (330 Townsend)', 'Powell Street BART'),\n",
       " ('Embarcadero at Sansome', 'Spear at Folsom'),\n",
       " ('Spear at Folsom', '2nd at Folsom'),\n",
       " ('2nd at Folsom', 'San Francisco Caltrain (Townsend at 4th)'),\n",
       " ('2nd at Folsom', 'Clay at Battery'),\n",
       " ('Howard at 2nd', 'Davis at Jackson'),\n",
       " ('Davis at Jackson', 'Howard at 2nd'),\n",
       " ('San Francisco Caltrain (Townsend at 4th)', 'Powell Street BART'),\n",
       " ('Powell Street BART', 'Embarcadero at Sansome'),\n",
       " ('Embarcadero at Sansome', 'Golden Gate at Polk'),\n",
       " ('Golden Gate at Polk', 'Temporary Transbay Terminal (Howard at Beale)'),\n",
       " ('Temporary Transbay Terminal (Howard at Beale)', 'Davis at Jackson'),\n",
       " ('Davis at Jackson', 'Embarcadero at Sansome'),\n",
       " ('Embarcadero at Sansome', 'Golden Gate at Polk'),\n",
       " ('Golden Gate at Polk', 'San Francisco Caltrain (Townsend at 4th)'),\n",
       " ('San Francisco Caltrain (Townsend at 4th)',\n",
       "  'Yerba Buena Center of the Arts (3rd @ Howard)'),\n",
       " ('Yerba Buena Center of the Arts (3rd @ Howard)',\n",
       "  'San Francisco Caltrain (Townsend at 4th)'),\n",
       " ('San Francisco Caltrain (Townsend at 4th)',\n",
       "  'Mechanics Plaza (Market at Battery)'),\n",
       " ('Mechanics Plaza (Market at Battery)', 'Spear at Folsom'),\n",
       " ('Beale at Market', 'San Francisco Caltrain (Townsend at 4th)'),\n",
       " ('San Francisco Caltrain (Townsend at 4th)', 'Market at 4th'),\n",
       " ('Market at 4th', 'San Francisco Caltrain (Townsend at 4th)'),\n",
       " ('San Francisco Caltrain (Townsend at 4th)', 'Howard at 2nd'),\n",
       " ('Howard at 2nd', 'Post at Kearny'),\n",
       " ('Broadway St at Battery St', 'Market at Sansome'),\n",
       " ('Market at Sansome', '2nd at South Park'),\n",
       " ('2nd at South Park', 'Clay at Battery'),\n",
       " ('Clay at Battery', 'Townsend at 7th'),\n",
       " ('Townsend at 7th', '2nd at Townsend'),\n",
       " ('2nd at Townsend', 'Harry Bridges Plaza (Ferry Building)'),\n",
       " ('Harry Bridges Plaza (Ferry Building)', 'Embarcadero at Sansome'),\n",
       " ('Beale at Market', 'Embarcadero at Sansome'),\n",
       " ('Embarcadero at Sansome', 'Yerba Buena Center of the Arts (3rd @ Howard)'),\n",
       " ('Yerba Buena Center of the Arts (3rd @ Howard)', 'Embarcadero at Vallejo'),\n",
       " ('Howard at 2nd', 'Market at 10th'),\n",
       " ('Market at 10th', 'Market at 4th'),\n",
       " ('Harry Bridges Plaza (Ferry Building)', 'Embarcadero at Vallejo'),\n",
       " ('Embarcadero at Vallejo', 'San Francisco Caltrain (Townsend at 4th)'),\n",
       " ('San Francisco Caltrain 2 (330 Townsend)', 'Steuart at Market'),\n",
       " ('2nd at Folsom', '2nd at Townsend'),\n",
       " ('2nd at Townsend', 'Yerba Buena Center of the Arts (3rd @ Howard)'),\n",
       " ('Yerba Buena Center of the Arts (3rd @ Howard)',\n",
       "  'San Francisco Caltrain 2 (330 Townsend)'),\n",
       " ('San Francisco Caltrain 2 (330 Townsend)', 'Market at 10th'),\n",
       " ('Market at 10th', '2nd at Townsend'),\n",
       " ('2nd at Townsend', 'Yerba Buena Center of the Arts (3rd @ Howard)'),\n",
       " ('Yerba Buena Center of the Arts (3rd @ Howard)',\n",
       "  'San Francisco Caltrain (Townsend at 4th)'),\n",
       " ('Grant Avenue at Columbus Avenue', 'Powell Street BART'),\n",
       " ('Powell Street BART', 'Market at 10th'),\n",
       " ('Market at 10th', 'San Francisco Caltrain (Townsend at 4th)'),\n",
       " ('San Francisco Caltrain (Townsend at 4th)', 'Post at Kearny'),\n",
       " ('Post at Kearny', 'Davis at Jackson'),\n",
       " ('Davis at Jackson', 'Embarcadero at Folsom'),\n",
       " ('Embarcadero at Folsom', '2nd at Townsend'),\n",
       " ('2nd at Townsend', 'Temporary Transbay Terminal (Howard at Beale)'),\n",
       " ('Temporary Transbay Terminal (Howard at Beale)', 'Market at 4th'),\n",
       " ('Market at 4th', 'South Van Ness at Market'),\n",
       " ('South Van Ness at Market', 'Powell Street BART'),\n",
       " ('Powell at Post (Union Square)', 'Howard at 2nd'),\n",
       " ('Howard at 2nd', 'Mechanics Plaza (Market at Battery)'),\n",
       " ('Mechanics Plaza (Market at Battery)', 'Townsend at 7th'),\n",
       " ('Townsend at 7th', 'San Francisco Caltrain (Townsend at 4th)'),\n",
       " ('5th at Howard', 'Steuart at Market'),\n",
       " ('Embarcadero at Folsom', '2nd at Townsend'),\n",
       " ('San Francisco Caltrain (Townsend at 4th)', '2nd at Townsend'),\n",
       " ('Yerba Buena Center of the Arts (3rd @ Howard)', '5th at Howard'),\n",
       " ('Temporary Transbay Terminal (Howard at Beale)', 'Market at 4th'),\n",
       " ('Market at 4th', 'Harry Bridges Plaza (Ferry Building)'),\n",
       " ('Harry Bridges Plaza (Ferry Building)',\n",
       "  'Temporary Transbay Terminal (Howard at Beale)'),\n",
       " ('Temporary Transbay Terminal (Howard at Beale)',\n",
       "  'Civic Center BART (7th at Market)'),\n",
       " ('Civic Center BART (7th at Market)', 'Howard at 2nd'),\n",
       " ('Howard at 2nd', '2nd at South Park'),\n",
       " ('2nd at South Park', 'Harry Bridges Plaza (Ferry Building)'),\n",
       " ('Harry Bridges Plaza (Ferry Building)', 'Townsend at 7th'),\n",
       " ('Townsend at 7th', 'Temporary Transbay Terminal (Howard at Beale)'),\n",
       " ('Temporary Transbay Terminal (Howard at Beale)', '5th at Howard'),\n",
       " ('5th at Howard', 'Steuart at Market'),\n",
       " ('Steuart at Market', 'San Francisco Caltrain 2 (330 Townsend)'),\n",
       " ('San Francisco Caltrain 2 (330 Townsend)', 'Steuart at Market'),\n",
       " ('Steuart at Market', 'Embarcadero at Folsom'),\n",
       " ('Embarcadero at Folsom', 'Embarcadero at Sansome'),\n",
       " ('Steuart at Market', 'Broadway St at Battery St'),\n",
       " ('Broadway St at Battery St', 'Mechanics Plaza (Market at Battery)'),\n",
       " ('Mechanics Plaza (Market at Battery)', 'Powell at Post (Union Square)'),\n",
       " ('Powell at Post (Union Square)', 'Mechanics Plaza (Market at Battery)'),\n",
       " ('Mechanics Plaza (Market at Battery)',\n",
       "  'San Francisco Caltrain (Townsend at 4th)'),\n",
       " ('San Francisco City Hall', 'Townsend at 7th'),\n",
       " ('Townsend at 7th', 'South Van Ness at Market'),\n",
       " ('South Van Ness at Market', '2nd at Folsom'),\n",
       " ('2nd at Folsom', 'Beale at Market'),\n",
       " ('Beale at Market', '2nd at Townsend'),\n",
       " ('San Francisco Caltrain (Townsend at 4th)',\n",
       "  'Harry Bridges Plaza (Ferry Building)'),\n",
       " ('Harry Bridges Plaza (Ferry Building)', '2nd at Townsend'),\n",
       " ('2nd at Townsend', 'Post at Kearny'),\n",
       " ('Post at Kearny', 'Grant Avenue at Columbus Avenue'),\n",
       " ('Grant Avenue at Columbus Avenue', 'Harry Bridges Plaza (Ferry Building)'),\n",
       " ('Harry Bridges Plaza (Ferry Building)', 'Townsend at 7th'),\n",
       " ('Powell at Post (Union Square)', 'Powell Street BART'),\n",
       " ('Powell Street BART', 'Market at 10th'),\n",
       " ('Market at 10th', 'Market at 4th'),\n",
       " ('Market at 4th', 'Yerba Buena Center of the Arts (3rd @ Howard)'),\n",
       " ('San Francisco Caltrain 2 (330 Townsend)',\n",
       "  'San Francisco Caltrain 2 (330 Townsend)'),\n",
       " ('Powell at Post (Union Square)', 'Powell at Post (Union Square)'),\n",
       " ('Powell at Post (Union Square)', 'Broadway St at Battery St'),\n",
       " ('Broadway St at Battery St', 'San Francisco Caltrain (Townsend at 4th)'),\n",
       " ('2nd at Folsom', 'Spear at Folsom'),\n",
       " ('San Francisco Caltrain 2 (330 Townsend)', '2nd at Folsom'),\n",
       " ('2nd at Folsom', 'Embarcadero at Folsom'),\n",
       " ('Embarcadero at Folsom', '2nd at Townsend'),\n",
       " ('2nd at Townsend', 'Embarcadero at Folsom'),\n",
       " ('Embarcadero at Folsom', 'San Francisco Caltrain (Townsend at 4th)'),\n",
       " ('Golden Gate at Polk', 'Embarcadero at Sansome'),\n",
       " ('Embarcadero at Sansome', 'Townsend at 7th'),\n",
       " ('Townsend at 7th', 'San Francisco Caltrain (Townsend at 4th)'),\n",
       " ('Clay at Battery', '2nd at South Park'),\n",
       " ('2nd at South Park', 'San Francisco Caltrain (Townsend at 4th)'),\n",
       " ('Embarcadero at Folsom', 'Embarcadero at Vallejo'),\n",
       " ('Embarcadero at Vallejo', 'Embarcadero at Sansome'),\n",
       " ('Steuart at Market', '2nd at Townsend'),\n",
       " ('2nd at Townsend', 'Steuart at Market'),\n",
       " ('Steuart at Market', 'San Francisco Caltrain 2 (330 Townsend)'),\n",
       " ('San Francisco Caltrain 2 (330 Townsend)', 'Steuart at Market'),\n",
       " ('Market at 4th', 'Market at 10th'),\n",
       " ('Market at 10th', 'San Francisco Caltrain (Townsend at 4th)'),\n",
       " ('San Francisco Caltrain (Townsend at 4th)', 'Embarcadero at Folsom'),\n",
       " ('Embarcadero at Folsom', 'Steuart at Market'),\n",
       " ('Steuart at Market', 'Embarcadero at Sansome'),\n",
       " ('Embarcadero at Sansome', 'Powell Street BART'),\n",
       " ('Powell Street BART', 'Market at Sansome'),\n",
       " ('Market at Sansome', '2nd at South Park'),\n",
       " ('2nd at South Park', 'Spear at Folsom'),\n",
       " ('Spear at Folsom', 'Townsend at 7th'),\n",
       " ('Townsend at 7th', 'Market at 4th'),\n",
       " ('Market at 4th', 'Townsend at 7th'),\n",
       " ('Townsend at 7th', 'San Francisco Caltrain (Townsend at 4th)'),\n",
       " ('San Francisco Caltrain (Townsend at 4th)', 'Market at Sansome'),\n",
       " ('Market at Sansome', 'Clay at Battery'),\n",
       " ('San Francisco Caltrain (Townsend at 4th)', 'Market at Sansome'),\n",
       " ('Market at Sansome', '2nd at Folsom'),\n",
       " ('2nd at Folsom', 'Yerba Buena Center of the Arts (3rd @ Howard)'),\n",
       " ('5th at Howard', 'San Francisco Caltrain (Townsend at 4th)'),\n",
       " ('Grant Avenue at Columbus Avenue', '2nd at Townsend'),\n",
       " ('2nd at Townsend', 'Harry Bridges Plaza (Ferry Building)'),\n",
       " ('Clay at Battery', 'Embarcadero at Sansome'),\n",
       " ('Embarcadero at Sansome', 'Steuart at Market'),\n",
       " ('Steuart at Market', 'San Francisco Caltrain (Townsend at 4th)'),\n",
       " ('San Francisco Caltrain (Townsend at 4th)', 'Davis at Jackson'),\n",
       " ('San Francisco Caltrain (Townsend at 4th)',\n",
       "  'Temporary Transbay Terminal (Howard at Beale)'),\n",
       " ('Temporary Transbay Terminal (Howard at Beale)', '2nd at Townsend'),\n",
       " ('2nd at Townsend', 'Mechanics Plaza (Market at Battery)'),\n",
       " ('Mechanics Plaza (Market at Battery)', 'South Van Ness at Market'),\n",
       " ('South Van Ness at Market', 'Powell Street BART'),\n",
       " ('Powell Street BART', 'Beale at Market'),\n",
       " ('Beale at Market', '2nd at Townsend'),\n",
       " ('2nd at Townsend', 'Spear at Folsom'),\n",
       " ('Spear at Folsom', 'Steuart at Market'),\n",
       " ('Steuart at Market', 'Embarcadero at Sansome'),\n",
       " ('Embarcadero at Sansome', 'Spear at Folsom'),\n",
       " ('Spear at Folsom', 'Townsend at 7th'),\n",
       " ('Townsend at 7th', 'Harry Bridges Plaza (Ferry Building)'),\n",
       " ('Market at 4th', 'Temporary Transbay Terminal (Howard at Beale)'),\n",
       " ('Temporary Transbay Terminal (Howard at Beale)',\n",
       "  'San Francisco Caltrain 2 (330 Townsend)'),\n",
       " ('Howard at 2nd', 'South Van Ness at Market'),\n",
       " ('South Van Ness at Market', 'Market at Sansome'),\n",
       " ('Market at Sansome', '2nd at Folsom'),\n",
       " ('2nd at Folsom', 'San Francisco Caltrain (Townsend at 4th)'),\n",
       " ('Market at 10th', '2nd at Folsom'),\n",
       " ('2nd at Folsom', 'Embarcadero at Folsom'),\n",
       " ('Embarcadero at Folsom', 'Washington at Kearny'),\n",
       " ('Washington at Kearny', 'San Francisco Caltrain 2 (330 Townsend)'),\n",
       " ('Powell at Post (Union Square)', 'San Francisco Caltrain 2 (330 Townsend)'),\n",
       " ('San Francisco Caltrain 2 (330 Townsend)', 'Davis at Jackson'),\n",
       " ('Davis at Jackson', 'Embarcadero at Vallejo'),\n",
       " ('Embarcadero at Vallejo', 'Washington at Kearny'),\n",
       " ('Washington at Kearny', 'Embarcadero at Vallejo'),\n",
       " ('Embarcadero at Vallejo', 'Davis at Jackson'),\n",
       " ('Davis at Jackson', 'Beale at Market'),\n",
       " ('Beale at Market', '2nd at Townsend'),\n",
       " ('2nd at Townsend', 'Embarcadero at Folsom'),\n",
       " ('Embarcadero at Folsom', 'Davis at Jackson'),\n",
       " ('Davis at Jackson', 'Davis at Jackson'),\n",
       " ('Davis at Jackson', 'Howard at 2nd'),\n",
       " ('Harry Bridges Plaza (Ferry Building)', 'Embarcadero at Sansome'),\n",
       " ('Embarcadero at Sansome', 'Market at 10th'),\n",
       " ('Market at 10th', 'Market at 4th'),\n",
       " ('Market at 4th', 'Temporary Transbay Terminal (Howard at Beale)'),\n",
       " ('Temporary Transbay Terminal (Howard at Beale)',\n",
       "  'San Francisco Caltrain (Townsend at 4th)'),\n",
       " ('San Francisco Caltrain (Townsend at 4th)', '2nd at Townsend'),\n",
       " ('2nd at Townsend', 'Market at Sansome'),\n",
       " ('Market at Sansome', 'South Van Ness at Market'),\n",
       " ('South Van Ness at Market', 'Market at Sansome'),\n",
       " ('Market at Sansome', 'Harry Bridges Plaza (Ferry Building)'),\n",
       " ('Embarcadero at Folsom', 'San Francisco Caltrain (Townsend at 4th)'),\n",
       " ('San Francisco Caltrain (Townsend at 4th)', 'Market at 4th'),\n",
       " ('Market at 4th', 'San Francisco Caltrain (Townsend at 4th)'),\n",
       " ('2nd at Folsom', 'San Francisco Caltrain 2 (330 Townsend)'),\n",
       " ('San Francisco Caltrain 2 (330 Townsend)', 'Spear at Folsom'),\n",
       " ('San Francisco Caltrain (Townsend at 4th)', 'Market at Sansome'),\n",
       " ('Harry Bridges Plaza (Ferry Building)', 'Embarcadero at Sansome'),\n",
       " ('Embarcadero at Sansome', 'Howard at 2nd'),\n",
       " ('Market at Sansome', 'Civic Center BART (7th at Market)'),\n",
       " ('Civic Center BART (7th at Market)',\n",
       "  'San Francisco Caltrain (Townsend at 4th)'),\n",
       " ('Market at 10th', 'Harry Bridges Plaza (Ferry Building)'),\n",
       " ('Harry Bridges Plaza (Ferry Building)', 'Civic Center BART (7th at Market)'),\n",
       " ('Civic Center BART (7th at Market)', 'Market at 4th'),\n",
       " ('Market at 4th', 'Market at Sansome'),\n",
       " ('Market at Sansome', 'Harry Bridges Plaza (Ferry Building)'),\n",
       " ('Harry Bridges Plaza (Ferry Building)',\n",
       "  'Harry Bridges Plaza (Ferry Building)'),\n",
       " ('Harry Bridges Plaza (Ferry Building)', 'Market at 10th'),\n",
       " ('Market at 10th', 'Civic Center BART (7th at Market)'),\n",
       " ('Civic Center BART (7th at Market)', 'Market at Sansome'),\n",
       " ('Market at Sansome', 'San Francisco Caltrain (Townsend at 4th)'),\n",
       " ('2nd at Townsend', 'Beale at Market'),\n",
       " ('Beale at Market', 'Market at 4th'),\n",
       " ('Market at 4th', 'Howard at 2nd'),\n",
       " ('Howard at 2nd', 'Temporary Transbay Terminal (Howard at Beale)'),\n",
       " ('Townsend at 7th', 'San Francisco Caltrain (Townsend at 4th)'),\n",
       " ('San Francisco Caltrain (Townsend at 4th)', '2nd at South Park'),\n",
       " ('Powell at Post (Union Square)', 'Market at 10th'),\n",
       " ('Market at 10th', 'San Francisco Caltrain (Townsend at 4th)'),\n",
       " ('San Francisco Caltrain (Townsend at 4th)', 'Powell Street BART'),\n",
       " ('Powell Street BART', '2nd at Folsom'),\n",
       " ('2nd at Folsom', 'San Francisco Caltrain (Townsend at 4th)'),\n",
       " ('San Francisco Caltrain (Townsend at 4th)', 'Embarcadero at Vallejo'),\n",
       " ('Embarcadero at Vallejo', 'Harry Bridges Plaza (Ferry Building)'),\n",
       " ('Embarcadero at Sansome', 'Steuart at Market'),\n",
       " ('Steuart at Market', 'San Francisco Caltrain (Townsend at 4th)'),\n",
       " ('Embarcadero at Sansome', 'Harry Bridges Plaza (Ferry Building)'),\n",
       " ('Harry Bridges Plaza (Ferry Building)', 'Townsend at 7th'),\n",
       " ('Townsend at 7th', 'Temporary Transbay Terminal (Howard at Beale)'),\n",
       " ('Temporary Transbay Terminal (Howard at Beale)',\n",
       "  'San Francisco Caltrain (Townsend at 4th)'),\n",
       " ('San Francisco Caltrain (Townsend at 4th)', 'Market at 10th'),\n",
       " ('Market at 10th', 'San Francisco Caltrain (Townsend at 4th)'),\n",
       " ('San Francisco Caltrain (Townsend at 4th)', 'Davis at Jackson'),\n",
       " ('Davis at Jackson', 'Howard at 2nd'),\n",
       " ('Market at Sansome', 'Powell Street BART'),\n",
       " ('Powell Street BART', 'San Francisco Caltrain 2 (330 Townsend)'),\n",
       " ('San Francisco Caltrain 2 (330 Townsend)', 'Townsend at 7th'),\n",
       " ('Powell at Post (Union Square)', 'Townsend at 7th'),\n",
       " ('Townsend at 7th', 'Powell Street BART'),\n",
       " ('Powell Street BART', 'South Van Ness at Market'),\n",
       " ('South Van Ness at Market', 'San Francisco Caltrain (Townsend at 4th)'),\n",
       " ('San Francisco Caltrain (Townsend at 4th)',\n",
       "  'Harry Bridges Plaza (Ferry Building)'),\n",
       " ('Harry Bridges Plaza (Ferry Building)', '5th at Howard'),\n",
       " ('5th at Howard', 'Market at 10th'),\n",
       " ('Market at 10th', 'San Francisco Caltrain (Townsend at 4th)'),\n",
       " ('San Francisco Caltrain (Townsend at 4th)', 'Steuart at Market'),\n",
       " ('Steuart at Market', 'Embarcadero at Sansome'),\n",
       " ('Embarcadero at Sansome', 'Yerba Buena Center of the Arts (3rd @ Howard)'),\n",
       " ('Yerba Buena Center of the Arts (3rd @ Howard)', 'Market at 10th'),\n",
       " ('Market at 10th', 'San Francisco Caltrain (Townsend at 4th)'),\n",
       " ('San Francisco Caltrain (Townsend at 4th)', 'Powell Street BART'),\n",
       " ('San Francisco Caltrain (Townsend at 4th)',\n",
       "  'Temporary Transbay Terminal (Howard at Beale)'),\n",
       " ('Temporary Transbay Terminal (Howard at Beale)', '2nd at Townsend'),\n",
       " ('2nd at Townsend', 'San Francisco Caltrain (Townsend at 4th)'),\n",
       " ('San Francisco Caltrain (Townsend at 4th)', 'Market at Sansome'),\n",
       " ('Market at Sansome', '2nd at South Park'),\n",
       " ('2nd at South Park', 'San Francisco Caltrain 2 (330 Townsend)'),\n",
       " ('San Francisco Caltrain 2 (330 Townsend)', 'Steuart at Market'),\n",
       " ('Steuart at Market', 'San Francisco Caltrain (Townsend at 4th)'),\n",
       " ('Market at Sansome', 'Howard at 2nd'),\n",
       " ('Howard at 2nd', 'Market at 4th'),\n",
       " ('Market at 4th', 'Grant Avenue at Columbus Avenue'),\n",
       " ('Grant Avenue at Columbus Avenue', 'Beale at Market'),\n",
       " ('Beale at Market', 'Temporary Transbay Terminal (Howard at Beale)'),\n",
       " ('Temporary Transbay Terminal (Howard at Beale)', '2nd at Folsom'),\n",
       " ('2nd at Folsom', 'Market at Sansome'),\n",
       " ('Market at Sansome', 'Steuart at Market'),\n",
       " ('Steuart at Market', 'Golden Gate at Polk'),\n",
       " ('Golden Gate at Polk', 'San Francisco Caltrain (Townsend at 4th)'),\n",
       " ('San Francisco Caltrain (Townsend at 4th)', 'Spear at Folsom'),\n",
       " ('Spear at Folsom', 'San Francisco Caltrain (Townsend at 4th)'),\n",
       " ('San Francisco Caltrain (Townsend at 4th)', 'Market at Sansome'),\n",
       " ('Market at Sansome', 'Grant Avenue at Columbus Avenue'),\n",
       " ('Grant Avenue at Columbus Avenue', 'Market at Sansome'),\n",
       " ('Market at Sansome', 'Townsend at 7th'),\n",
       " ('Townsend at 7th', 'Spear at Folsom'),\n",
       " ('Grant Avenue at Columbus Avenue', 'Embarcadero at Folsom'),\n",
       " ('Golden Gate at Polk', 'San Francisco Caltrain 2 (330 Townsend)'),\n",
       " ('San Francisco Caltrain 2 (330 Townsend)', 'Powell Street BART'),\n",
       " ('Powell Street BART', '5th at Howard'),\n",
       " ('5th at Howard', 'San Francisco Caltrain 2 (330 Townsend)'),\n",
       " ('San Francisco Caltrain 2 (330 Townsend)', 'South Van Ness at Market'),\n",
       " ('South Van Ness at Market', 'San Francisco Caltrain (Townsend at 4th)'),\n",
       " ('San Francisco Caltrain (Townsend at 4th)',\n",
       "  'Civic Center BART (7th at Market)'),\n",
       " ('Civic Center BART (7th at Market)', 'Clay at Battery'),\n",
       " ('Clay at Battery', 'Powell Street BART'),\n",
       " ('Powell Street BART', 'Washington at Kearny'),\n",
       " ('Grant Avenue at Columbus Avenue', 'Market at Sansome'),\n",
       " ('Market at Sansome', 'Harry Bridges Plaza (Ferry Building)'),\n",
       " ('Clay at Battery', 'Powell at Post (Union Square)'),\n",
       " ('Powell at Post (Union Square)', 'Clay at Battery'),\n",
       " ('2nd at Townsend', 'San Francisco Caltrain (Townsend at 4th)'),\n",
       " ('San Francisco Caltrain (Townsend at 4th)', 'Steuart at Market'),\n",
       " ('Steuart at Market', 'Civic Center BART (7th at Market)'),\n",
       " ('Civic Center BART (7th at Market)', 'South Van Ness at Market'),\n",
       " ('South Van Ness at Market', 'San Francisco Caltrain 2 (330 Townsend)'),\n",
       " ('San Francisco Caltrain 2 (330 Townsend)', 'Market at 10th'),\n",
       " ('Market at 10th', 'San Francisco Caltrain (Townsend at 4th)'),\n",
       " ('Broadway St at Battery St', 'Beale at Market'),\n",
       " ('Beale at Market', 'Spear at Folsom'),\n",
       " ('Spear at Folsom', 'San Francisco Caltrain (Townsend at 4th)'),\n",
       " ('Temporary Transbay Terminal (Howard at Beale)', 'Howard at 2nd'),\n",
       " ('Embarcadero at Bryant', 'Clay at Battery'),\n",
       " ('Clay at Battery', 'Powell at Post (Union Square)'),\n",
       " ('Powell at Post (Union Square)', '2nd at Folsom'),\n",
       " ('2nd at Folsom', '2nd at Townsend'),\n",
       " ('2nd at Townsend', 'Davis at Jackson'),\n",
       " ('Davis at Jackson', 'Embarcadero at Sansome'),\n",
       " ('Embarcadero at Sansome', 'Steuart at Market'),\n",
       " ('Steuart at Market', 'San Francisco Caltrain 2 (330 Townsend)'),\n",
       " ('San Francisco Caltrain 2 (330 Townsend)', 'Washington at Kearny'),\n",
       " ('Washington at Kearny', 'Market at 4th'),\n",
       " ('Market at 4th', 'Davis at Jackson'),\n",
       " ('Davis at Jackson', 'Market at 4th'),\n",
       " ('Market at 4th', 'Market at Sansome'),\n",
       " ('Beale at Market', 'Civic Center BART (7th at Market)'),\n",
       " ('Civic Center BART (7th at Market)', 'Civic Center BART (7th at Market)'),\n",
       " ('Civic Center BART (7th at Market)', 'Townsend at 7th'),\n",
       " ('Townsend at 7th', 'San Francisco Caltrain (Townsend at 4th)'),\n",
       " ('Clay at Battery', 'Embarcadero at Sansome'),\n",
       " ('Embarcadero at Sansome', 'Embarcadero at Folsom'),\n",
       " ('2nd at Folsom', 'San Francisco Caltrain (Townsend at 4th)'),\n",
       " ('San Francisco Caltrain (Townsend at 4th)', '2nd at Townsend'),\n",
       " ('2nd at Townsend', 'Beale at Market'),\n",
       " ('2nd at Folsom', 'Harry Bridges Plaza (Ferry Building)'),\n",
       " ('Harry Bridges Plaza (Ferry Building)', 'Embarcadero at Sansome'),\n",
       " ('Embarcadero at Sansome', 'Powell at Post (Union Square)'),\n",
       " ('Powell at Post (Union Square)', 'Mechanics Plaza (Market at Battery)'),\n",
       " ('Mechanics Plaza (Market at Battery)', 'Spear at Folsom'),\n",
       " ('Spear at Folsom', 'Townsend at 7th'),\n",
       " ('Townsend at 7th', 'Spear at Folsom'),\n",
       " ('Spear at Folsom', 'Embarcadero at Sansome'),\n",
       " ('2nd at Townsend', 'San Francisco Caltrain 2 (330 Townsend)'),\n",
       " ('San Francisco Caltrain 2 (330 Townsend)', '5th at Howard'),\n",
       " ('5th at Howard', 'Harry Bridges Plaza (Ferry Building)'),\n",
       " ('Harry Bridges Plaza (Ferry Building)', 'Grant Avenue at Columbus Avenue'),\n",
       " ('Grant Avenue at Columbus Avenue', 'San Francisco City Hall'),\n",
       " ('San Francisco City Hall', 'Powell Street BART'),\n",
       " ('Powell Street BART', 'Market at Sansome'),\n",
       " ('Market at Sansome', 'Market at 4th'),\n",
       " ('Harry Bridges Plaza (Ferry Building)',\n",
       "  'Mechanics Plaza (Market at Battery)'),\n",
       " ('Mechanics Plaza (Market at Battery)', 'Broadway St at Battery St'),\n",
       " ('Broadway St at Battery St',\n",
       "  'Temporary Transbay Terminal (Howard at Beale)'),\n",
       " ('Temporary Transbay Terminal (Howard at Beale)',\n",
       "  'San Francisco Caltrain 2 (330 Townsend)'),\n",
       " ('San Francisco Caltrain 2 (330 Townsend)', '5th at Howard'),\n",
       " ('5th at Howard', 'San Francisco Caltrain 2 (330 Townsend)'),\n",
       " ('South Van Ness at Market', 'Embarcadero at Vallejo'),\n",
       " ('Harry Bridges Plaza (Ferry Building)', 'Market at Sansome'),\n",
       " ('San Francisco Caltrain (Townsend at 4th)', 'Market at 10th'),\n",
       " ('Market at 10th', 'Civic Center BART (7th at Market)'),\n",
       " ('Civic Center BART (7th at Market)',\n",
       "  'San Francisco Caltrain (Townsend at 4th)'),\n",
       " ('San Francisco Caltrain (Townsend at 4th)', 'Market at 10th'),\n",
       " ('Market at 10th', 'Washington at Kearny'),\n",
       " ('Market at 10th', 'Embarcadero at Bryant'),\n",
       " ('Harry Bridges Plaza (Ferry Building)', 'Embarcadero at Sansome'),\n",
       " ('Embarcadero at Sansome', 'Washington at Kearny'),\n",
       " ('Washington at Kearny', 'Embarcadero at Sansome'),\n",
       " ('Grant Avenue at Columbus Avenue', 'Commercial at Montgomery'),\n",
       " ('Grant Avenue at Columbus Avenue', 'Beale at Market'),\n",
       " ('2nd at South Park', 'Townsend at 7th'),\n",
       " ('Beale at Market', 'Embarcadero at Bryant'),\n",
       " ('Steuart at Market', '2nd at Townsend'),\n",
       " ('2nd at Townsend', 'Townsend at 7th'),\n",
       " ('Townsend at 7th', 'Temporary Transbay Terminal (Howard at Beale)'),\n",
       " ('Temporary Transbay Terminal (Howard at Beale)',\n",
       "  'San Francisco Caltrain 2 (330 Townsend)'),\n",
       " ('San Francisco Caltrain 2 (330 Townsend)', '5th at Howard'),\n",
       " ('5th at Howard', 'Market at 4th'),\n",
       " ('Market at 4th', 'Embarcadero at Sansome'),\n",
       " ('Embarcadero at Sansome', 'Embarcadero at Sansome'),\n",
       " ('Embarcadero at Folsom', 'Embarcadero at Bryant'),\n",
       " ('Harry Bridges Plaza (Ferry Building)', 'Market at 4th'),\n",
       " ('Market at 4th', 'Market at 4th'),\n",
       " ('Market at 4th', 'San Francisco City Hall'),\n",
       " ('Market at 10th', 'Powell Street BART'),\n",
       " ('Powell Street BART', 'Market at 10th'),\n",
       " ('Market at 10th', 'Powell Street BART'),\n",
       " ('Powell Street BART', 'Commercial at Montgomery'),\n",
       " ('Harry Bridges Plaza (Ferry Building)', '2nd at Townsend'),\n",
       " ('2nd at Townsend', 'Market at Sansome'),\n",
       " ('Market at Sansome', '2nd at South Park'),\n",
       " ('2nd at South Park', 'Market at Sansome'),\n",
       " ('Market at Sansome', 'Townsend at 7th'),\n",
       " ('Townsend at 7th', 'San Francisco Caltrain 2 (330 Townsend)'),\n",
       " ('San Francisco Caltrain 2 (330 Townsend)', 'Steuart at Market'),\n",
       " ('Steuart at Market', 'Spear at Folsom'),\n",
       " ('Spear at Folsom', 'Beale at Market'),\n",
       " ('Beale at Market', 'San Francisco Caltrain 2 (330 Townsend)'),\n",
       " ('San Francisco Caltrain 2 (330 Townsend)', 'Powell Street BART'),\n",
       " ('Powell Street BART', 'Market at 10th'),\n",
       " ('Market at 10th', 'South Van Ness at Market'),\n",
       " ('South Van Ness at Market', 'Market at Sansome'),\n",
       " ('Market at Sansome', 'Embarcadero at Sansome'),\n",
       " ('Embarcadero at Sansome', 'Embarcadero at Folsom'),\n",
       " ('Embarcadero at Folsom', 'San Francisco Caltrain 2 (330 Townsend)'),\n",
       " ('San Francisco Caltrain 2 (330 Townsend)', 'Townsend at 7th'),\n",
       " ('Townsend at 7th', 'Civic Center BART (7th at Market)'),\n",
       " ('Civic Center BART (7th at Market)', 'Powell Street BART'),\n",
       " ('Powell Street BART', 'San Francisco City Hall'),\n",
       " ('San Francisco City Hall', 'Powell Street BART'),\n",
       " ('Powell Street BART', 'Steuart at Market'),\n",
       " ('Steuart at Market', 'San Francisco Caltrain 2 (330 Townsend)'),\n",
       " ('San Francisco Caltrain 2 (330 Townsend)',\n",
       "  'Civic Center BART (7th at Market)'),\n",
       " ('Civic Center BART (7th at Market)', 'Townsend at 7th'),\n",
       " ('Embarcadero at Bryant', 'San Francisco Caltrain 2 (330 Townsend)'),\n",
       " ('2nd at Folsom', 'Market at Sansome'),\n",
       " ('San Francisco Caltrain 2 (330 Townsend)', 'Townsend at 7th'),\n",
       " ('Broadway St at Battery St', 'Mechanics Plaza (Market at Battery)'),\n",
       " ('Mechanics Plaza (Market at Battery)', 'South Van Ness at Market'),\n",
       " ('South Van Ness at Market', 'San Francisco Caltrain (Townsend at 4th)'),\n",
       " ('Howard at 2nd', 'Market at 4th'),\n",
       " ('Market at 4th', 'Market at 4th'),\n",
       " ('Market at 4th', 'Market at 4th'),\n",
       " ('Market at 4th', 'Market at 10th'),\n",
       " ('Market at 10th', 'San Francisco Caltrain (Townsend at 4th)'),\n",
       " ('San Francisco Caltrain (Townsend at 4th)', 'Commercial at Montgomery'),\n",
       " ('Commercial at Montgomery', 'Grant Avenue at Columbus Avenue'),\n",
       " ('Grant Avenue at Columbus Avenue', 'Commercial at Montgomery'),\n",
       " ('Commercial at Montgomery', 'Market at Sansome'),\n",
       " ('Market at Sansome', 'Civic Center BART (7th at Market)'),\n",
       " ('Civic Center BART (7th at Market)',\n",
       "  'San Francisco Caltrain 2 (330 Townsend)'),\n",
       " ('San Francisco Caltrain 2 (330 Townsend)', 'Townsend at 7th'),\n",
       " ('Townsend at 7th', 'South Van Ness at Market'),\n",
       " ('South Van Ness at Market', 'Market at Sansome'),\n",
       " ('Steuart at Market', 'Market at Sansome'),\n",
       " ('Market at Sansome', 'San Francisco Caltrain (Townsend at 4th)'),\n",
       " ('San Francisco Caltrain (Townsend at 4th)', 'Townsend at 7th'),\n",
       " ('Townsend at 7th', '2nd at Townsend'),\n",
       " ('2nd at Townsend', 'Steuart at Market'),\n",
       " ('Steuart at Market', 'Embarcadero at Sansome'),\n",
       " ('Embarcadero at Sansome', 'Embarcadero at Sansome'),\n",
       " ('Beale at Market', 'Broadway St at Battery St'),\n",
       " ('Powell at Post (Union Square)', 'Townsend at 7th'),\n",
       " ('Market at 10th', 'Market at 4th'),\n",
       " ('Market at 4th', 'Spear at Folsom'),\n",
       " ('Spear at Folsom', 'Steuart at Market'),\n",
       " ('Steuart at Market', 'Embarcadero at Bryant'),\n",
       " ('Embarcadero at Bryant', 'Embarcadero at Vallejo'),\n",
       " ('Grant Avenue at Columbus Avenue', 'Beale at Market'),\n",
       " ('Beale at Market', 'San Francisco Caltrain (Townsend at 4th)'),\n",
       " ('San Francisco Caltrain (Townsend at 4th)', 'Market at Sansome'),\n",
       " ('Market at Sansome', '2nd at Townsend'),\n",
       " ('2nd at Townsend', 'Powell at Post (Union Square)'),\n",
       " ('Golden Gate at Polk', 'San Francisco Caltrain (Townsend at 4th)'),\n",
       " ('San Francisco Caltrain (Townsend at 4th)', 'Steuart at Market'),\n",
       " ('Steuart at Market', 'Embarcadero at Sansome'),\n",
       " ('Embarcadero at Sansome', 'Mechanics Plaza (Market at Battery)'),\n",
       " ('Mechanics Plaza (Market at Battery)', 'Civic Center BART (7th at Market)'),\n",
       " ('Civic Center BART (7th at Market)',\n",
       "  'San Francisco Caltrain (Townsend at 4th)')]"
      ]
     },
     "execution_count": 29,
     "metadata": {},
     "output_type": "execute_result"
    }
   ],
   "source": [
    "bike_path.collect()"
   ]
  },
  {
   "cell_type": "markdown",
   "id": "498c0b6f",
   "metadata": {},
   "source": [
    "### Задание 4. Найти количество велосипедов в системе."
   ]
  },
  {
   "cell_type": "markdown",
   "id": "2fe14c5d",
   "metadata": {},
   "source": [
    "#### Выводим список уникальных id велосипедов и считаем их количество"
   ]
  },
  {
   "cell_type": "code",
   "execution_count": 30,
   "id": "978d0ba5",
   "metadata": {},
   "outputs": [
    {
     "data": {
      "text/plain": [
       "699"
      ]
     },
     "execution_count": 30,
     "metadata": {},
     "output_type": "execute_result"
    }
   ],
   "source": [
    "bikes = trips.map(lambda trip: trip.bike_id).distinct().count()\n",
    "bikes"
   ]
  },
  {
   "cell_type": "markdown",
   "id": "15afe171",
   "metadata": {},
   "source": [
    "### Задание 5. Найти пользователей потративших на поездки более 3 часов."
   ]
  },
  {
   "cell_type": "markdown",
   "id": "fd31cd5a",
   "metadata": {},
   "source": [
    "#### Будем считать идентификатор поездки, как отдельного пользователя"
   ]
  },
  {
   "cell_type": "code",
   "execution_count": 31,
   "id": "83f21606",
   "metadata": {},
   "outputs": [],
   "source": [
    "three_hour = 3 * 60 * 60    # sec\n",
    "users = trips.filter(lambda user: user.duration > three_hour).map(lambda user: user.trip_id)"
   ]
  },
  {
   "cell_type": "code",
   "execution_count": 32,
   "id": "6d711f34",
   "metadata": {},
   "outputs": [
    {
     "data": {
      "text/plain": [
       "[4639, 4637, 4528, 4363, 4193, 4190, 4225, 4663, 4532, 4521]"
      ]
     },
     "execution_count": 32,
     "metadata": {},
     "output_type": "execute_result"
    }
   ],
   "source": [
    "users.take(10)"
   ]
  },
  {
   "cell_type": "code",
   "execution_count": 33,
   "id": "b7f28fdc",
   "metadata": {},
   "outputs": [
    {
     "data": {
      "text/plain": [
       "4770"
      ]
     },
     "execution_count": 33,
     "metadata": {},
     "output_type": "execute_result"
    }
   ],
   "source": [
    "users.count()"
   ]
  }
 ],
 "metadata": {
  "kernelspec": {
   "display_name": "Python 3",
   "language": "python",
   "name": "python3"
  },
  "language_info": {
   "codemirror_mode": {
    "name": "ipython",
    "version": 3
   },
   "file_extension": ".py",
   "mimetype": "text/x-python",
   "name": "python",
   "nbconvert_exporter": "python",
   "pygments_lexer": "ipython3",
   "version": "3.6.9"
  }
 },
 "nbformat": 4,
 "nbformat_minor": 5
}
