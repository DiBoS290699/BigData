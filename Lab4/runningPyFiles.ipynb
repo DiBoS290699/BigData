{
 "cells": [
  {
   "cell_type": "code",
   "execution_count": 2,
   "id": "ea0b758b",
   "metadata": {},
   "outputs": [
    {
     "name": "stdout",
     "output_type": "stream",
     "text": [
      "Requirement already satisfied: kazoo in d:\\programs\\conda\\lib\\site-packages (2.8.0)\n",
      "Requirement already satisfied: six in d:\\programs\\conda\\lib\\site-packages (from kazoo) (1.16.0)\n"
     ]
    }
   ],
   "source": [
    "!pip install kazoo"
   ]
  },
  {
   "cell_type": "code",
   "execution_count": 9,
   "id": "e8df9ad6",
   "metadata": {},
   "outputs": [
    {
     "name": "stdout",
     "output_type": "stream",
     "text": [
      "Философ 2 размышляет.\n",
      "Философ 3 размышляет.\n",
      "Философ 1 размышляет.\n",
      "Философ 4 размышляет.\n",
      "Философ 5 размышляет.\n",
      "Философ 2 кушает.\n",
      "Философ 4 кушает.\n",
      "Философ 2 размышляет.\n",
      "Философ 4 размышляет.\n",
      "Философ 1 кушает.\n",
      "Философ 3 кушает.\n",
      "Философ 1 размышляет.\n",
      "Философ 5 кушает.\n",
      "Философ 3 размышляет.\n",
      "Философ 2 кушает.\n",
      "Философ 5 размышляет.\n",
      "Философ 4 кушает.\n",
      "Философ 2 размышляет.\n",
      "Философ 1 кушает.\n",
      "Философ 4 размышляет.\n",
      "Философ 3 кушает.\n",
      "Философ 1 размышляет.\n",
      "Философ 5 кушает.\n",
      "Философ 3 размышляет.\n",
      "Философ 2 кушает.\n",
      "Философ 5 размышляет.\n",
      "Философ 4 кушает.\n",
      "Философ 2 размышляет.\n",
      "Философ 1 кушает.\n",
      "Философ 4 размышляет.\n",
      "Философ 3 кушает.\n",
      "Философ 1 размышляет.\n",
      "Философ 5 кушает.\n",
      "Философ 3 размышляет.\n",
      "Философ 2 кушает.\n",
      "Философ 5 размышляет.\n",
      "Философ 4 кушает.\n",
      "Философ 2 размышляет.\n",
      "Философ 1 кушает.\n",
      "Философ 4 размышляет.\n",
      "Философ 3 кушает.\n",
      "Философ 1 размышляет.\n",
      "Философ 5 кушает.\n",
      "Философ 3 размышляет.\n",
      "Философ 5 размышляет.\n"
     ]
    }
   ],
   "source": [
    "!python diningPhilosophers.py"
   ]
  },
  {
   "cell_type": "code",
   "execution_count": null,
   "id": "0be4d17f",
   "metadata": {},
   "outputs": [],
   "source": []
  }
 ],
 "metadata": {
  "kernelspec": {
   "display_name": "Python 3 (ipykernel)",
   "language": "python",
   "name": "python3"
  },
  "language_info": {
   "codemirror_mode": {
    "name": "ipython",
    "version": 3
   },
   "file_extension": ".py",
   "mimetype": "text/x-python",
   "name": "python",
   "nbconvert_exporter": "python",
   "pygments_lexer": "ipython3",
   "version": "3.9.5"
  }
 },
 "nbformat": 4,
 "nbformat_minor": 5
}
